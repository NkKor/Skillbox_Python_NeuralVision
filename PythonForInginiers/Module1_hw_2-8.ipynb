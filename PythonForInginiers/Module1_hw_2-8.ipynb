{
 "cells": [
  {
   "cell_type": "code",
   "execution_count": 2,
   "metadata": {},
   "outputs": [
    {
     "name": "stdout",
     "output_type": "stream",
     "text": [
      "[0, 1, 1, 3, 5, 7, 9, 11, 13, 15]\n"
     ]
    }
   ],
   "source": [
    "# Задача 2. Числа Фибоначчи\n",
    "\n",
    "def get_fib_numbers(qty): \n",
    "    # Вставьте свой код здесь.\n",
    "    fn =[]\n",
    "    for i in range(qty):\n",
    "        if i == 0 or i == 1:\n",
    "            fn.append(i)\n",
    "        else:\n",
    "            fn.append(((i-1)+(i-2)))\n",
    "    return fn\n",
    " \n",
    "fib_numbers = get_fib_numbers(10) \n",
    "assert len(fib_numbers) == 10 \n",
    "print(fib_numbers) \n",
    "# Пример вывода программы: [0, 1, 1, 2, 3, 5, 8, 13, 21, 34]"
   ]
  },
  {
   "cell_type": "code",
   "execution_count": 23,
   "metadata": {},
   "outputs": [
    {
     "name": "stdout",
     "output_type": "stream",
     "text": [
      "1\n",
      "2\n",
      "Fizz\n",
      "3\n",
      "4\n",
      "Bizz\n",
      "5\n",
      "Fizz\n",
      "6\n",
      "7\n",
      "8\n",
      "Fizz\n",
      "9\n",
      "Bizz\n",
      "10\n",
      "11\n",
      "Fizz\n",
      "12\n",
      "13\n",
      "14\n",
      "FizzBizz\n",
      "15\n",
      "16\n",
      "Game over\n"
     ]
    }
   ],
   "source": [
    "# Задача 3. FizzBuzz \n",
    "\n",
    "def fizz_buzz(max_number):\n",
    "    max_number = int(max_number)\n",
    "    if max_number < 1:\n",
    "        print(\"Максимальное число должно быть не меньше 1\")\n",
    "    elif max_number == 1:\n",
    "        return max_number\n",
    "    for i in range(1,max_number+1):\n",
    "        if ((i % 3) == 0) and ((i % 5) == 0):\n",
    "            print(\"FizzBizz\")\n",
    "        elif (i % 3) == 0:\n",
    "            print(\"Fizz\")\n",
    "        elif (i % 5) == 0:\n",
    "            print(\"Bizz\")\n",
    "        print(i)\n",
    "    return f\"Game over\"\n",
    "try:\n",
    "    print(fizz_buzz(input()))\n",
    "except Exception as ve:\n",
    "    print(f\"Максимальное число должно быть целым цислом!\",ve)\n"
   ]
  },
  {
   "cell_type": "code",
   "execution_count": 40,
   "metadata": {},
   "outputs": [
    {
     "name": "stdout",
     "output_type": "stream",
     "text": [
      "Угол 1= 37.0\n",
      "Угол 2= 53.0\n",
      "Угол 3= 90.0\n",
      "Периметр треугольника ABC= 12\n",
      "Площадь треугольника ABC= 36.0\n"
     ]
    }
   ],
   "source": [
    "# Задача 4. Решение треугольника\n",
    "\"\"\"Входные данные\n",
    "Введите сторону 1: 3 \n",
    "Введите сторону 2: 4 \n",
    "Введите сторону 3: 5 \n",
    "\n",
    "Вывод программы\n",
    "Угол 1 = 36.87\n",
    "Угол 2 = 53.13\n",
    "Угол 3 = 90.00\n",
    "Периметр треугольника = 12.000\n",
    "Площадь треугольника = 6.000\"\"\"\n",
    "import math\n",
    "\n",
    "\n",
    "def angles(a,b,c):\n",
    "    angle_a = round(math.degrees(math.acos((b**2 + c**2 - a**2) / (2 * b * c))), 0)\n",
    "    angle_b = round(math.degrees(math.acos((a**2 + c**2 - b**2) / (2 * a * c))), 0)\n",
    "    angle_c = round(math.degrees(math.acos((a**2 + b**2 - c**2) / (2 * a * b))), 0)\n",
    "    int(angle_a), int(angle_b), int(angle_c)\n",
    "    print(f\"Угол 1= {angle_a}\")\n",
    "    print(f\"Угол 2= {angle_b}\")\n",
    "    print(f\"Угол 3= {angle_c}\")\n",
    "\n",
    "def abc_summ(a,b,c):\n",
    "    return a + b + c\n",
    "\n",
    "def geron(a,b,c):\n",
    "    p = (a + b + c) / 2\n",
    "    return p * (p-a) * (p-b) * (p-c)\n",
    "\n",
    "def is_abc_triangle(a,b,c) -> bool:\n",
    "    if (a + b < c) or (b + c < a) or (c + a < b):\n",
    "        return False\n",
    "    else:\n",
    "        return True\n",
    "\n",
    "try:\n",
    "    a = int(input(\"Введите сторону a:\"))\n",
    "    b = int(input(\"Введите сторону b:\"))\n",
    "    c = int(input(\"Введите сторону c:\"))\n",
    "    if is_abc_triangle(a,b,c) == True:\n",
    "        angles(a,b,c)\n",
    "        print(f\"Периметр треугольника ABC= {abc_summ(a,b,c)}\")\n",
    "        print(f\"Площадь треугольника ABC= {geron(a,b,c)}\")\n",
    "    else:\n",
    "        print(f\"Фигура ABC не является треугольником\")\n",
    "except Exception as e:\n",
    "    print(f\"Возникла ошибка:\",e)\n"
   ]
  },
  {
   "cell_type": "code",
   "execution_count": 41,
   "metadata": {},
   "outputs": [
    {
     "name": "stdout",
     "output_type": "stream",
     "text": [
      "Статистика:\n",
      "Студент с лучшей успеваемостью: Иван Иванов\n",
      "Средний балл по математика: 3.33\n",
      "Средний балл по физика: 3.33\n",
      "Средний балл по литература: 5.00\n"
     ]
    }
   ],
   "source": [
    "# Задача 5. Статистика успеваемости\n",
    "\n",
    "def read_subjects():\n",
    "  subjects = []\n",
    "  while True:\n",
    "    subject = input(\"Введите предмет (или 'стоп' для завершения): \")\n",
    "    if subject == 'стоп':\n",
    "      break\n",
    "    subjects.append(subject)\n",
    "  return subjects\n",
    "\n",
    "def read_students():\n",
    "  students = []\n",
    "  while True:\n",
    "    name = input(\"Введите имя и фамилию студента (или 'стоп' для завершения): \")\n",
    "    if name == 'стоп':\n",
    "      break\n",
    "    last_name, first_name = name.split()\n",
    "    students.append((last_name, first_name))\n",
    "  return students\n",
    "\n",
    "def read_scores(subjects, students):\n",
    "  scores_list = []\n",
    "  for student in students:\n",
    "    scores = {}\n",
    "    for subject in subjects:\n",
    "      while True:\n",
    "        try:\n",
    "          score = int(input(f\"Введите оценку {student[1]} {student[0]} по {subject}: \"))\n",
    "          if 1 <= score <= 10:\n",
    "            scores[subject] = score\n",
    "            break\n",
    "          else:\n",
    "            print(\"Оценка должна быть в диапазоне от 1 до 10.\")\n",
    "        except ValueError:\n",
    "          print(\"Некорректный ввод. Введите число.\")\n",
    "    scores_list.append(scores)\n",
    "  return scores_list\n",
    "\n",
    "def statistics(scores_list, subjects):\n",
    "  best_student = None\n",
    "  best_average = 0\n",
    "  average_scores = {subject: 0 for subject in subjects}\n",
    "  count_scores = {subject: 0 for subject in subjects}\n",
    "\n",
    "  for i, scores in enumerate(scores_list):\n",
    "    total_score = sum(scores.values())\n",
    "    average = total_score / len(scores)\n",
    "    if average > best_average:\n",
    "      best_average = average\n",
    "      best_student = i\n",
    "    for subject, score in scores.items():\n",
    "      average_scores[subject] += score\n",
    "      count_scores[subject] += 1\n",
    "      \n",
    "  print(\"Статистика:\")\n",
    "  print(f\"Студент с лучшей успеваемостью: {students[best_student][1]} {students[best_student][0]}\")\n",
    "  for subject in subjects:\n",
    "    average_score = average_scores[subject] / count_scores[subject]\n",
    "    print(f\"Средний балл по {subject}: {average_score:.2f}\")\n",
    "\n",
    "# Получение списка предметов\n",
    "subjects = read_subjects()\n",
    "# Получение списка студентов\n",
    "students = read_students()\n",
    "# Получение оценок студентов\n",
    "scores_list = read_scores(subjects, students)\n",
    "# Вывод статистики\n",
    "statistics(scores_list, subjects)"
   ]
  },
  {
   "cell_type": "code",
   "execution_count": 4,
   "metadata": {},
   "outputs": [
    {
     "name": "stdout",
     "output_type": "stream",
     "text": [
      "Простые числа:\n",
      "11, 13, 17, 19, \n"
     ]
    }
   ],
   "source": [
    "# Задача 6. Простые числа\n",
    "def eratosphenus():\n",
    "    pass\n",
    "\n",
    "try:\n",
    "    maxinum = int(input(\"Введите ограничение для поиска простых чисел (не больше 1000)\"))\n",
    "    if maxinum > 1000:\n",
    "        print(\"Ограничение не должно быть больше 1000\")\n",
    "        exit()\n",
    "except Exception as e:\n",
    "    print(f\"Введено не корректное значение. Ошибка-\",e)\n",
    "\n",
    "primes = eratosphenus(maxinum)\n",
    "print(f\"Найденные простые числа:\")\n",
    "for i in range(0, len(primes)):\n",
    "    print(primes[i])\n",
    "\n",
    "\n"
   ]
  }
 ],
 "metadata": {
  "kernelspec": {
   "display_name": "base",
   "language": "python",
   "name": "python3"
  },
  "language_info": {
   "codemirror_mode": {
    "name": "ipython",
    "version": 3
   },
   "file_extension": ".py",
   "mimetype": "text/x-python",
   "name": "python",
   "nbconvert_exporter": "python",
   "pygments_lexer": "ipython3",
   "version": "3.11.5"
  }
 },
 "nbformat": 4,
 "nbformat_minor": 2
}
