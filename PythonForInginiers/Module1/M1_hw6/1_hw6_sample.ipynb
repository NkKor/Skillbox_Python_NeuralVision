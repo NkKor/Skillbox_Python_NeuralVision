{
 "cells": [
  {
   "cell_type": "code",
   "execution_count": 2,
   "metadata": {},
   "outputs": [
    {
     "name": "stderr",
     "output_type": "stream",
     "text": [
      "\"pwd\" �� ���� ����७��� ��� ���譥�\n",
      "��������, �ᯮ��塞�� �ணࠬ��� ��� ������ 䠩���.\n"
     ]
    }
   ],
   "source": [
    "!pwd"
   ]
  },
  {
   "cell_type": "code",
   "execution_count": null,
   "metadata": {},
   "outputs": [
    {
     "data": {
      "text/plain": [
       "'\\\\home\\\\em2see'"
      ]
     },
     "execution_count": 3,
     "metadata": {},
     "output_type": "execute_result"
    }
   ],
   "source": [
    "import os\n",
    "\n",
    "\n",
    "# /home/em2see/projects/skillbox/course/module 6\n",
    "\n",
    "os.path.abspath('../module_5/chinook.db')\n",
    "\n",
    "# = '/home/em2see/projects/skillbox/course/module_5/chinook.db'\n",
    "\n",
    "os.path.join('..', 'module 5', 'chinook.db')\n",
    "\n",
    "# = '../module 5/chinook.db'\n",
    "\n",
    "os.path.abspath(os.path.join('..', 'module 5', 'chinook.db'))\n",
    "\n",
    "# = '/home/em2see/projects/skillbox/course/module_5/chinook.db'\n",
    "\n",
    "os.path.join(os.sep, 'home', 'em2see')\n",
    "\n",
    "# = '/home/em2see'"
   ]
  },
  {
   "cell_type": "code",
   "execution_count": null,
   "metadata": {},
   "outputs": [],
   "source": [
    "import cv2\n",
    "import sys\n",
    "import numpy as np\n",
    "import matplotlib.pyplot as plt\n",
    "\n",
    "image_path = 'zorin.png'\n",
    "image = cv2.imread(image_path)\n",
    "image = cv2.cvtColor(image, cv2.COLOR_BGR2RGB)\n",
    "\n",
    "\n",
    "plt.figure(figsize=(12,6))\n",
    "image_blur = cv2.medianBlur(image, 145)\n",
    "\n",
    "plt.subplot(1,2,1)\n",
    "plt.imshow(image)\n",
    "plt.title('Оригинал')\n",
    "\n",
    "plt.subplot(1,2,2)\n",
    "plt.imshow(image_blur)\n",
    "plt.title('Размытие')\n",
    "\n",
    "plt.show()"
   ]
  }
 ],
 "metadata": {
  "kernelspec": {
   "display_name": "Python 3",
   "language": "python",
   "name": "python3"
  },
  "language_info": {
   "codemirror_mode": {
    "name": "ipython",
    "version": 3
   },
   "file_extension": ".py",
   "mimetype": "text/x-python",
   "name": "python",
   "nbconvert_exporter": "python",
   "pygments_lexer": "ipython3",
   "version": "3.11.11"
  }
 },
 "nbformat": 4,
 "nbformat_minor": 2
}
