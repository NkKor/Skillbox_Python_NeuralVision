{
 "cells": [
  {
   "cell_type": "code",
   "execution_count": 2,
   "metadata": {},
   "outputs": [
    {
     "name": "stderr",
     "output_type": "stream",
     "text": [
      "\"pwd\" �� ���� ����७��� ��� ���譥�\n",
      "��������, �ᯮ��塞�� �ணࠬ��� ��� ������ 䠩���.\n"
     ]
    }
   ],
   "source": [
    "!pwd"
   ]
  },
  {
   "cell_type": "code",
   "execution_count": null,
   "metadata": {},
   "outputs": [
    {
     "data": {
      "text/plain": [
       "'\\\\home\\\\em2see'"
      ]
     },
     "execution_count": 3,
     "metadata": {},
     "output_type": "execute_result"
    }
   ],
   "source": [
    "import os\n",
    "\n",
    "\n",
    "# /home/em2see/projects/skillbox/course/module 6\n",
    "\n",
    "os.path.abspath('../module_5/chinook.db')\n",
    "\n",
    "# = '/home/em2see/projects/skillbox/course/module_5/chinook.db'\n",
    "\n",
    "os.path.join('..', 'module 5', 'chinook.db')\n",
    "\n",
    "# = '../module 5/chinook.db'\n",
    "\n",
    "os.path.abspath(os.path.join('..', 'module 5', 'chinook.db'))\n",
    "\n",
    "# = '/home/em2see/projects/skillbox/course/module_5/chinook.db'\n",
    "\n",
    "os.path.join(os.sep, 'home', 'em2see')\n",
    "\n",
    "# = '/home/em2see'"
   ]
  },
  {
   "cell_type": "code",
   "execution_count": null,
   "metadata": {},
   "outputs": [],
   "source": [
    "import cv2\n",
    "import sys\n",
    "import numpy as np\n",
    "import matplotlib.pyplot as plt\n",
    "\n",
    "image_path = 'zorin.png'\n",
    "image = cv2.imread(image_path)\n",
    "image = cv2.cvtColor(image, cv2.COLOR_BGR2RGB)\n",
    "\n",
    "\n",
    "plt.figure(figsize=(12,6))\n",
    "image_blur = cv2.medianBlur(image, 145)\n",
    "\n",
    "plt.subplot(1,2,1)\n",
    "plt.imshow(image)\n",
    "plt.title('Оригинал')\n",
    "\n",
    "plt.subplot(1,2,2)\n",
    "plt.imshow(image_blur)\n",
    "plt.title('Размытие')\n",
    "\n",
    "plt.show()"
   ]
  },
  {
   "cell_type": "code",
   "execution_count": 2,
   "metadata": {},
   "outputs": [
    {
     "name": "stdout",
     "output_type": "stream",
     "text": [
      "main/\n",
      "  folder_1/\n",
      "    folder_1_1/\n",
      "      folder_1_1_1/\n",
      "    folder_1_2/\n",
      "      folder_1_2_1/\n",
      "      folder_1_2_2/\n",
      "  folder_2/\n",
      "    folder_2_1/\n",
      "  folder_3/\n",
      "    folder_3_1/\n",
      "      folder_3_1_1/\n",
      "    folder_3_2/\n",
      "      folder_3_2_1/\n",
      "      folder_3_2_2/\n",
      "\n",
      "Создана следующая структура:\n",
      "main/\n",
      "  folder_1/\n",
      "    folder_1_1/\n",
      "      folder_1_1_1/\n",
      "    folder_1_2/\n",
      "      folder_1_2_1/\n",
      "      folder_1_2_2/\n",
      "  folder_2/\n",
      "    folder_2_1/\n",
      "  folder_3/\n",
      "    folder_3_1/\n",
      "      folder_3_1_1/\n",
      "    folder_3_2/\n",
      "      folder_3_2_1/\n",
      "      folder_3_2_2/\n"
     ]
    }
   ],
   "source": [
    "from pathlib import Path\n",
    "import random\n",
    "import string\n",
    "\n",
    "# Функция для генерации содержимого файла (минимум 5 строк, длина строк от 10 символов)\n",
    "def make_file(path):\n",
    "    content = []\n",
    "    for _ in range(random.randint(5, 10)):  # От 5 до 10 строк\n",
    "        line_length = random.randint(10, 20)  # Длина строки от 10 до 20 символов\n",
    "        line = ''.join(random.choices(string.ascii_letters, k=line_length))\n",
    "        content.append(line)\n",
    "    content = '\\n'.join(content)\n",
    "    with open(path, 'w', encoding='utf-8') as f:\n",
    "        f.write(content)\n",
    "\n",
    "# Основной путь\n",
    "main_path = Path('./main')\n",
    "\n",
    "# Определение структуры с явной иерархией\n",
    "structure = {\n",
    "    \"main\": {\n",
    "        \"folder_1\": {\n",
    "            \"folder_1_1\": [\"folder_1_1_1\"],\n",
    "            \"folder_1_2\": [\"folder_1_2_1\", \"folder_1_2_2\"]\n",
    "        },\n",
    "        \"folder_2\": [\"folder_2_1\"],\n",
    "        \"folder_3\": {\n",
    "            \"folder_3_1\": [\"folder_3_1_1\"],\n",
    "            \"folder_3_2\": [\"folder_3_2_1\", \"folder_3_2_2\"]\n",
    "        }\n",
    "    }\n",
    "}\n",
    "\n",
    "\n",
    "# Рекурсивная функция для создания директорий и файлов\n",
    "def create_structure(base_path, structure_dict, indent=\"\"):\n",
    "    for folder, substructure in structure_dict.items():\n",
    "        current_path = base_path / folder\n",
    "        current_path.mkdir(parents=True, exist_ok=True)\n",
    "        print(f\"{indent}{folder}/\")\n",
    "        \n",
    "        # Создаем 3 файла в каждой директории\n",
    "        for i in range(3):\n",
    "            file_name = f'file_{i+1}.txt'\n",
    "            file_path = current_path / file_name\n",
    "            make_file(file_path)\n",
    "        \n",
    "        # Рекурсивно создаем вложенные директории, если они есть\n",
    "        if isinstance(substructure, dict):\n",
    "            create_structure(current_path, substructure, indent + \"  \")\n",
    "        elif isinstance(substructure, list):\n",
    "            for subfolder in substructure:\n",
    "                subfolder_path = current_path / subfolder\n",
    "                subfolder_path.mkdir(parents=True, exist_ok=True)\n",
    "                print(f\"{indent}  {subfolder}/\")\n",
    "                # Создаем 3 файла в каждой вложенной директории\n",
    "                for i in range(3):\n",
    "                    file_name = f'file_{i+1}.txt'\n",
    "                    file_path = subfolder_path / file_name\n",
    "                    make_file(file_path)\n",
    "\n",
    "# Создание структуры\n",
    "create_structure(main_path, structure)\n",
    "\n",
    "# Вывод структуры для проверки\n",
    "print(\"\\nСоздана следующая структура:\")\n",
    "create_structure(main_path, structure)"
   ]
  }
 ],
 "metadata": {
  "kernelspec": {
   "display_name": "Python 3",
   "language": "python",
   "name": "python3"
  },
  "language_info": {
   "codemirror_mode": {
    "name": "ipython",
    "version": 3
   },
   "file_extension": ".py",
   "mimetype": "text/x-python",
   "name": "python",
   "nbconvert_exporter": "python",
   "pygments_lexer": "ipython3",
   "version": "3.11.11"
  }
 },
 "nbformat": 4,
 "nbformat_minor": 2
}
