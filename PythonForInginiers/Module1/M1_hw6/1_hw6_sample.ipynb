{
 "cells": [
  {
   "cell_type": "code",
   "execution_count": 2,
   "metadata": {},
   "outputs": [
    {
     "name": "stderr",
     "output_type": "stream",
     "text": [
      "\"pwd\" �� ���� ����७��� ��� ���譥�\n",
      "��������, �ᯮ��塞�� �ணࠬ��� ��� ������ 䠩���.\n"
     ]
    }
   ],
   "source": [
    "!pwd"
   ]
  },
  {
   "cell_type": "code",
   "execution_count": 3,
   "metadata": {},
   "outputs": [
    {
     "data": {
      "text/plain": [
       "'\\\\home\\\\em2see'"
      ]
     },
     "execution_count": 3,
     "metadata": {},
     "output_type": "execute_result"
    }
   ],
   "source": [
    "import os\n",
    "\n",
    "\n",
    "# /home/em2see/projects/skillbox/course/module 6\n",
    "\n",
    "os.path.abspath('../module_5/chinook.db')\n",
    "\n",
    "# = '/home/em2see/projects/skillbox/course/module_5/chinook.db'\n",
    "\n",
    "os.path.join('..', 'module 5', 'chinook.db')\n",
    "\n",
    "# = '../module 5/chinook.db'\n",
    "\n",
    "os.path.abspath(os.path.join('..', 'module 5', 'chinook.db'))\n",
    "\n",
    "# = '/home/em2see/projects/skillbox/course/module_5/chinook.db'\n",
    "\n",
    "os.path.join(os.sep, 'home', 'em2see')\n",
    "\n",
    "# = '/home/em2see'"
   ]
  }
 ],
 "metadata": {
  "kernelspec": {
   "display_name": "Python 3",
   "language": "python",
   "name": "python3"
  },
  "language_info": {
   "codemirror_mode": {
    "name": "ipython",
    "version": 3
   },
   "file_extension": ".py",
   "mimetype": "text/x-python",
   "name": "python",
   "nbconvert_exporter": "python",
   "pygments_lexer": "ipython3",
   "version": "3.12.8"
  }
 },
 "nbformat": 4,
 "nbformat_minor": 2
}
