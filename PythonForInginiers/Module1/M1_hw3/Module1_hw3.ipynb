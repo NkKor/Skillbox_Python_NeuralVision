{
 "cells": [
  {
   "cell_type": "code",
   "execution_count": 4,
   "metadata": {},
   "outputs": [
    {
     "name": "stdout",
     "output_type": "stream",
     "text": [
      "Определители матриц: -sin(alpha)*sin(beta) + cos(alpha)*cos(beta), 1, 0, 1\n"
     ]
    }
   ],
   "source": [
    "# 1. Нахождение определителя матриц. \n",
    "from sympy import symbols, Matrix, cos, sin, det\n",
    "\n",
    "# Переменные для первой матрицы\n",
    "alpha, beta = symbols('alpha beta')\n",
    "matrix1 = Matrix([\n",
    "    [cos(alpha), sin(alpha)],\n",
    "    [sin(beta), cos(beta)]\n",
    "])\n",
    "\n",
    "# Переменная для второй матрицы\n",
    "t = symbols('t')\n",
    "matrix2 = Matrix([\n",
    "    [(1 - t**2) / (1 + t**2), 2 * t / (1 + t**2)],\n",
    "    [-2 * t / (1 + t**2), (1 - t**2) / (1 + t**2)]\n",
    "])\n",
    "\n",
    "# Переменные для третьей матрицы\n",
    "a, b = symbols('a b')\n",
    "matrix3 = Matrix([\n",
    "    [a**2, a * b],\n",
    "    [a * b, b**2]\n",
    "])\n",
    "\n",
    "# Матрица A\n",
    "matrix4 = Matrix([\n",
    "    [5, 2, 0],\n",
    "    [7, 3, 0],\n",
    "    [0, 0, 1]\n",
    "])\n",
    "\n",
    "# Определители матриц\n",
    "det1 = det(matrix1)\n",
    "det2 = det(matrix2)\n",
    "det3 = det(matrix3)\n",
    "det4 = det(matrix4)\n",
    "\n",
    "# Вывод всех определителей\n",
    "print(f\"Определители матриц: {det1}, {det2}, {det3}, {det4}\")\n"
   ]
  },
  {
   "cell_type": "code",
   "execution_count": 3,
   "metadata": {},
   "outputs": [
    {
     "name": "stdout",
     "output_type": "stream",
     "text": [
      "Matrix([[0.201357792864365], [-1.49451105012278], [1.24837498194424]])\n",
      "Matrix([[53/511, 36/73, 68/511], [-380/511, -46/73, 197/511], [68/73, -10/73, 17/73]])\n"
     ]
    }
   ],
   "source": [
    "# 2. Линейное уравнение с матричными неизвестными\n",
    "from sympy import Matrix\n",
    "\n",
    "# Заданные матрицы\n",
    "B = Matrix([[1.2, 3.3, 5.1]]).T  # Преобразуем в столбец\n",
    "C = Matrix([[3.2, 4.5, 0.3]]).T  # Преобразуем в столбец\n",
    "A = Matrix([\n",
    "    [0.1, 2.1, 4.1],\n",
    "    [3.2, 1.8, 2.6],\n",
    "    [1.1, 6.2, 3.4]])\n",
    "\n",
    "# Решение уравнения AX + B = C, можно решить как X=A**(−1)*(C−B)\n",
    "X = A.inv() * (C - B)\n",
    "print(X)\n",
    "\n",
    "# второй набор\n",
    "B = Matrix([\n",
    "    [9, 5, 2],\n",
    "    [4, 7, 6],\n",
    "    [4, 7, 2]])\n",
    "C = Matrix([\n",
    "    [5, 3, 7],\n",
    "    [8, 9, 9],\n",
    "    [3, 1, 7]])\n",
    "A = Matrix([\n",
    "    [8, 9, 2],\n",
    "    [8, 2, 5],\n",
    "    [1, 9, 6]\n",
    "])\n",
    "\n",
    "# Решение уравнения AX + B = C\n",
    "X = A.inv() * (C - B)\n",
    "print(X)\n"
   ]
  },
  {
   "cell_type": "code",
   "execution_count": 87,
   "metadata": {},
   "outputs": [
    {
     "name": "stdout",
     "output_type": "stream",
     "text": [
      "Решение системы № 1: []\n",
      "Решение системы № 2: [(-2, -1), (2, 1), (-2*I, -I), (2*I, I), (sqrt(2)*(-1 - I)/2, -sqrt(2) - sqrt(2)*I), (sqrt(2)*(-1 + I)/2, -sqrt(2) + sqrt(2)*I), (sqrt(2)*(1 - I)/2, sqrt(2) - sqrt(2)*I), (sqrt(2)*(1 + I)/2, sqrt(2) + sqrt(2)*I)]\n",
      "Решение системы № 3: [(-1, 1, 2), (-1, 2, 1), (1, -1, 2), (1, 2, -1), (2, -1, 1), (2, 1, -1)]\n",
      "Решение системы № 4: [(1, 1, 1)]\n"
     ]
    }
   ],
   "source": [
    "# 3. Системы уравнений\n",
    "from sympy import symbols, Eq, solve, sqrt\n",
    "\n",
    "# Решение первой системы (вероятно не имеет решения)\n",
    "x, y = symbols('x y')\n",
    "eq1 = Eq(sqrt(x) - 4*y - 2*sqrt(x) + 3*y, 1)\n",
    "eq2 = Eq(7*sqrt(x) + 3*y - 5*x + 22*y, 13)\n",
    "sol1 = solve([eq1, eq2], (x, y))\n",
    "print(\"Решение системы № 1:\", sol1)\n",
    "\n",
    "# Решение второй системы\n",
    "x, y = symbols('x y')\n",
    "eq1 = Eq(x**4 - y**4, 15)\n",
    "eq2 = Eq(x**3 * y - x * y**3, 6)\n",
    "sol2 = solve([eq1, eq2], (x, y))\n",
    "print(\"Решение системы № 2:\", sol2)\n",
    "\n",
    "# Решение третьей системы\n",
    "x, y, z = symbols('x y z')\n",
    "eq1 = Eq(x + y + z, 2)\n",
    "eq2 = Eq(x**2 + y**2 + z**2, 6)\n",
    "eq3 = Eq(x**3 + y**3 + z**3, 8)\n",
    "sol3 = solve([eq1, eq2, eq3], (x, y, z))\n",
    "print(\"Решение системы № 3:\", sol3)\n",
    "\n",
    "# Решение четвертой системы\n",
    "x, y, z = symbols('x y z')\n",
    "eq1 = Eq(x/y + y/z + z/x, 3)\n",
    "eq2 = Eq(y/x + z/y + x/z, 3)\n",
    "eq3 = Eq(x + y + z, 3)\n",
    "sol4 = solve([eq1, eq2, eq3], (x, y, z))\n",
    "print(\"Решение системы № 4:\", sol4)\n"
   ]
  },
  {
   "cell_type": "code",
   "execution_count": 2,
   "metadata": {},
   "outputs": [
    {
     "name": "stdout",
     "output_type": "stream",
     "text": [
      "Eq(y(x), 5*(-exp(5*x**2) + 4*sqrt(exp(5*x**2)))/(16 - exp(5*x**2)))\n"
     ]
    }
   ],
   "source": [
    "# 4. Задачи Коши\n",
    "from sympy import Function, dsolve, Eq, Symbol\n",
    "\n",
    "x = Symbol('x')\n",
    "y = Function('y')(x)  # Объявляем y как функцию от x\n",
    "\n",
    "ode = Eq(y.diff(x) + x*y**2, 5*x*y) # Создаем уравнение\n",
    "ics = {y.subs(x, 0): 1}  # Начальное условие: y(0) = 1\n",
    "\n",
    "solution = dsolve(ode, y, ics=ics)\n",
    "print(solution)"
   ]
  },
  {
   "cell_type": "code",
   "execution_count": 1,
   "metadata": {},
   "outputs": [
    {
     "name": "stdout",
     "output_type": "stream",
     "text": [
      "Равна ли T1 и T2? True\n",
      "Символьная матрица трансформации:\n",
      "Matrix([[sqrt(2)/2, -sqrt(2)/4, -sqrt(6)/4, 10], [0, sqrt(3)/2, -1/2, 10], [sqrt(2)/2, sqrt(2)/4, sqrt(6)/4, 1], [0, 0, 0, 1]])\n",
      "NumPy матрица трансформации:\n",
      "[[ 0.70710678 -0.35355339 -0.61237244 10.        ]\n",
      " [ 0.          0.8660254  -0.5        10.        ]\n",
      " [ 0.70710678  0.35355339  0.61237244  1.        ]\n",
      " [ 0.          0.          0.          1.        ]]\n"
     ]
    }
   ],
   "source": [
    "# 5. Матрицы трансформаций в символьном виде и в виде NumPy-матриц\n",
    "from sympy import symbols, Eq, solve, sqrt, sin, cos, Matrix, pi\n",
    "import numpy as np\n",
    "\n",
    "# Символьные переменные для проверки равенства матриц\n",
    "alpha, Tx, Ty, Tz = symbols('alpha Tx Ty Tz')\n",
    "T1 = Matrix([\n",
    "    [cos(alpha), -sin(alpha), 0, Tx],\n",
    "    [sin(alpha), cos(alpha), 0, Ty],\n",
    "    [0, 0, 1, Tz],\n",
    "    [0, 0, 0, 1]\n",
    "])\n",
    "T2 = Matrix([\n",
    "    [cos(alpha), -sin(alpha), 0, Tx],\n",
    "    [sin(alpha), cos(alpha), 0, Ty],\n",
    "    [0, 0, 1, Tz],\n",
    "    [0, 0, 0, 1]\n",
    "])\n",
    "print(\"Равна ли T1 и T2?\", T1 == T2)\n",
    "\n",
    "# Построение результирующей матрицы трансформации\n",
    "# Смещение и вращения\n",
    "Tx, Ty, Tz = 10, 10, 1\n",
    "alpha_x, alpha_y, alpha_z = 30 * pi / 180, -45 * pi / 180, 0\n",
    "\n",
    "# Матрицы вращения вокруг осей\n",
    "Rx = Matrix([\n",
    "    [1, 0, 0, 0],\n",
    "    [0, cos(alpha_x), -sin(alpha_x), 0],\n",
    "    [0, sin(alpha_x), cos(alpha_x), 0],\n",
    "    [0, 0, 0, 1]\n",
    "])\n",
    "Ry = Matrix([\n",
    "    [cos(alpha_y), 0, sin(alpha_y), 0],\n",
    "    [0, 1, 0, 0],\n",
    "    [-sin(alpha_y), 0, cos(alpha_y), 0],\n",
    "    [0, 0, 0, 1]\n",
    "])\n",
    "Rz = Matrix([\n",
    "    [cos(alpha_z), -sin(alpha_z), 0, 0],\n",
    "    [sin(alpha_z), cos(alpha_z), 0, 0],\n",
    "    [0, 0, 1, 0],\n",
    "    [0, 0, 0, 1]\n",
    "])\n",
    "\n",
    "# Матрица переноса\n",
    "T = Matrix([\n",
    "    [1, 0, 0, Tx],\n",
    "    [0, 1, 0, Ty],\n",
    "    [0, 0, 1, Tz],\n",
    "    [0, 0, 0, 1]\n",
    "])\n",
    "\n",
    "# Результирующая матрица трансформации\n",
    "Transformation_Matrix = T * Rz * Ry * Rx\n",
    "print(\"Символьная матрица трансформации:\")\n",
    "print(Transformation_Matrix)\n",
    "\n",
    "# Преобразование в NumPy-матрицу\n",
    "Transformation_Matrix_np = np.array(Transformation_Matrix).astype(np.float64)\n",
    "print(\"NumPy матрица трансформации:\")\n",
    "print(Transformation_Matrix_np)\n",
    "\n"
   ]
  },
  {
   "cell_type": "code",
   "execution_count": 80,
   "metadata": {},
   "outputs": [
    {
     "name": "stderr",
     "output_type": "stream",
     "text": [
      "Clipping input data to the valid range for imshow with RGB data ([0..1] for floats or [0..255] for integers). Got range [0.0..250.0].\n"
     ]
    },
    {
     "name": "stdout",
     "output_type": "stream",
     "text": [
      "До обработки: форма=(250, 500, 4), тип=float32\n",
      "Обнаружено изображение с альфа-каналом. Удаляем альфа-канал.\n",
      "После обработки: форма=(250, 500, 3), тип=float32\n"
     ]
    },
    {
     "data": {
      "image/png": "[encoded data removed]",
      "text/plain": [
       "<Figure size 640x480 with 1 Axes>"
      ]
     },
     "metadata": {},
     "output_type": "display_data"
    }
   ],
   "source": [
    "# 6. Работа с Matplotlib. Замена цвета\n",
    "from matplotlib import image\n",
    "import matplotlib.pyplot as plt\n",
    "import numpy as np\n",
    "\n",
    "# Загрузим изображение\n",
    "image_path = './image_6.png'\n",
    "img_array = image.imread(image_path)\n",
    "\n",
    "# Проверим начальный формат\n",
    "print(f\"До обработки: форма={img_array.shape}, тип={img_array.dtype}\")\n",
    "\n",
    "# Удалим альфа-канал, если он есть\n",
    "if img_array.shape[2] == 4:  # Если 4 канала, убираем альфа-канал\n",
    "    print(\"Обнаружено изображение с альфа-каналом. Удаляем альфа-канал.\")\n",
    "    img_array = img_array[..., 0:3]\n",
    "\n",
    "# Проверим итоговый формат\n",
    "print(f\"После обработки: форма={img_array.shape}, тип={img_array.dtype}\")\n",
    "\n",
    "# Создаем маски для замены цвета\n",
    "white_mask = (img_array[..., 0] > 0) & (img_array[..., 1] > 0) & (img_array[..., 2] > 0)\n",
    "blue_mask = img_array[..., 2] > img_array[..., 0] + img_array[..., 1]\n",
    "\n",
    "# Заменяем цвета\n",
    "img_array[white_mask] = [0, 250, 0]  # Заменяем белый на зеленый\n",
    "img_array[blue_mask] = [250, 0, 0]   # Заменяем синий на красный\n",
    "\n",
    "# Отображаем результат\n",
    "plt.imshow(img_array)\n",
    "plt.axis('off')  # Убираем оси для чистоты\n",
    "plt.show()"
   ]
  },
  {
   "cell_type": "code",
   "execution_count": 5,
   "metadata": {},
   "outputs": [
    {
     "name": "stdout",
     "output_type": "stream",
     "text": [
      "sin(x) = x - x**3/6 + x**5/120 - x**7/5040 + O(x**9)\n",
      "cos(x) = 1 - x**2/2 + x**4/24 - x**6/720 + x**8/40320 + O(x**9)\n",
      "exp(x) = 1 + x + x**2/2 + x**3/6 + x**4/24 + x**5/120 + x**6/720 + x**7/5040 + x**8/40320 + O(x**9)\n",
      "\n",
      "Упрощенный вывод:\n",
      "sin(x) = -x**7/5040 + x**5/120 - x**3/6 + x\n",
      "cos(x) = x**8/40320 - x**6/720 + x**4/24 - x**2/2 + 1\n",
      "exp(x) = x**8/40320 + x**7/5040 + x**6/720 + x**5/120 + x**4/24 + x**3/6 + x**2/2 + x + 1\n"
     ]
    }
   ],
   "source": [
    "# 7. Разложение в ряд Тейлора\n",
    "from sympy import series, Symbol, sin, cos, exp\n",
    "\n",
    "x = Symbol('x')\n",
    "\n",
    "# Разложение sin(x)\n",
    "sin_series = series(sin(x), x, 0, 9) # Разложение до x^8 (9-й член ряда)\n",
    "print(\"sin(x) =\", sin_series)\n",
    "\n",
    "# Разложение cos(x)\n",
    "cos_series = series(cos(x), x, 0, 9)\n",
    "print(\"cos(x) =\", cos_series)\n",
    "\n",
    "# Разложение exp(x)\n",
    "exp_series = series(exp(x), x, 0, 9)\n",
    "print(\"exp(x) =\", exp_series)\n",
    "\n",
    "# Убираем O(x^9) из вывода (для более чистого представления)\n",
    "sin_series = sin_series.removeO()\n",
    "cos_series = cos_series.removeO()\n",
    "exp_series = exp_series.removeO()\n",
    "\n",
    "print(\"\\nУпрощенный вывод:\")\n",
    "print(\"sin(x) =\", sin_series)\n",
    "print(\"cos(x) =\", cos_series)\n",
    "print(\"exp(x) =\", exp_series)"
   ]
  },
  {
   "cell_type": "code",
   "execution_count": 3,
   "metadata": {},
   "outputs": [
    {
     "name": "stdout",
     "output_type": "stream",
     "text": [
      "sin(A):\n",
      "Matrix([[11665670087/148262400, 7288258135/83026944, 478491265529/6227020800], [107248613/6081075, 1703993/78975, 107248613/6081075], [151666887341/3113510400, 4311185423/80870400, 314800652807/6227020800]])\n",
      "cos(A):\n",
      "Matrix([[-1978793094989/43589145600, -103864757839/1937295360, -114419680621/2490808320], [-90086741/8513505, -478660921/42567525, -90086741/8513505], [-255764074327/8717829120, -541198343993/17435658240, -30994297673/1076275200]])\n",
      "exp(A):\n",
      "Matrix([[40407632235647/8717829120, 454113355374037/87178291200, 349644456443/75479040], [15046393976/14189175, 16932792323/14189175, 15046393976/14189175], [127314510603653/43589145600, 57089400266863/17435658240, 84955332124037/29059430400]])\n",
      "NumPy sin(A):\n",
      "[[78.68259307 87.78184266 76.84112209]\n",
      " [17.63645622 21.57635961 17.63645622]\n",
      " [48.71250385 53.30980709 50.55397483]]\n",
      "NumPy cos(A):\n",
      "[[-45.39646437 -53.61327962 -45.93676667]\n",
      " [-10.58162778 -11.24474399 -10.58162778]\n",
      " [-29.3380463  -31.03974261 -28.79774399]]\n",
      "NumPy exp(A):\n",
      "[[4635.05669582 5209.01877203 4632.33841399]\n",
      " [1060.41358825 1193.35989041 1060.41358825]\n",
      " [2920.78472407 3274.28993394 2923.5030059 ]]\n"
     ]
    }
   ],
   "source": [
    "# 8. sin(A), cos(A), exp(A) где A - матрица\n",
    "from sympy import symbols, Matrix, sin, cos, exp, eye, factorial\n",
    "import numpy as np\n",
    "\n",
    "# Матрица A\n",
    "A = Matrix([\n",
    "    [5, 7, 4],\n",
    "    [1, 2, 1],\n",
    "    [3, 1, 4]\n",
    "])\n",
    "\n",
    "# Функции для разложения в ряды\n",
    "def matrix_expansion(A, func, terms=10):\n",
    "    result = eye(A.shape[0])  # Единичная матрица\n",
    "    power = eye(A.shape[0])  # Для хранения A^n\n",
    "    for n in range(1, terms):\n",
    "        power = power * A  # A^n\n",
    "        result += func(n) * power / factorial(n)\n",
    "    return result\n",
    "\n",
    "# Вычисление sin(A), cos(A), exp(A)\n",
    "sin_A = matrix_expansion(A, lambda n: (-1)**(n // 2) if n % 2 == 1 else 0, terms=15)\n",
    "cos_A = matrix_expansion(A, lambda n: (-1)**(n // 2) if n % 2 == 0 else 0, terms=15)\n",
    "exp_A = matrix_expansion(A, lambda n: 1, terms=15)\n",
    "\n",
    "# Вывод символических матриц\n",
    "print(\"sin(A):\")\n",
    "print(sin_A)\n",
    "print(\"cos(A):\")\n",
    "print(cos_A)\n",
    "print(\"exp(A):\")\n",
    "print(exp_A)\n",
    "\n",
    "# Преобразование в NumPy-матрицы\n",
    "sin_A_np = np.array(sin_A).astype(np.float64)\n",
    "cos_A_np = np.array(cos_A).astype(np.float64)\n",
    "exp_A_np = np.array(exp_A).astype(np.float64)\n",
    "\n",
    "print(\"NumPy sin(A):\")\n",
    "print(sin_A_np)\n",
    "print(\"NumPy cos(A):\")\n",
    "print(cos_A_np)\n",
    "print(\"NumPy exp(A):\")\n",
    "print(exp_A_np)\n"
   ]
  }
 ],
 "metadata": {
  "kernelspec": {
   "display_name": "Python 3",
   "language": "python",
   "name": "python3"
  },
  "language_info": {
   "codemirror_mode": {
    "name": "ipython",
    "version": 3
   },
   "file_extension": ".py",
   "mimetype": "text/x-python",
   "name": "python",
   "nbconvert_exporter": "python",
   "pygments_lexer": "ipython3",
   "version": "3.12.8"
  }
 },
 "nbformat": 4,
 "nbformat_minor": 2
}
