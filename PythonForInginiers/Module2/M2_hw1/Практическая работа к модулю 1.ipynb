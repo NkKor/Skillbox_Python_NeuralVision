{
  "cells": [
    {
      "cell_type": "markdown",
      "metadata": {
        "id": "6OHEdTw9OyBS"
      },
      "source": [
        "**Видео 2**"
      ]
    },
    {
      "cell_type": "markdown",
      "metadata": {
        "id": "z6Di9BG8PDqS"
      },
      "source": [
        "**Задача 1**\n",
        "\n",
        "Даны векторы $\\vec{a} = \\begin{bmatrix}\n",
        "    1 \\\\ 2 \\\\ 3\n",
        "\\end{bmatrix}$,\n",
        "$\\vec{b} = \\begin{bmatrix}\n",
        "    -5 \\\\ -1 \\\\ 6\n",
        "\\end{bmatrix}$, $\\vec{c} = \\begin{bmatrix}\n",
        "    -1 \\\\ 3 \\\\ 9\n",
        "\\end{bmatrix}$.\n",
        "\n",
        "Найдите результат вычисления: $3\\vec{a} + 2\\vec{b} - 4\\vec{c}$."
      ]
    },
    {
      "cell_type": "code",
      "execution_count": 27,
      "metadata": {},
      "outputs": [
        {
          "name": "stdout",
          "output_type": "stream",
          "text": [
            "⎡-3 ⎤\n",
            "⎢   ⎥\n",
            "⎢-8 ⎥\n",
            "⎢   ⎥\n",
            "⎣-15⎦\n"
          ]
        }
      ],
      "source": [
        "import sympy as sp\n",
        "\n",
        "# Задаем матрицы-столбцы\n",
        "a = sp.Matrix([[1], [2], [3]])\n",
        "b = sp.Matrix([[-5], [-1], [6]])\n",
        "c = sp.Matrix([[-1], [3], [9]])\n",
        "\n",
        "# Вычисляем выражение\n",
        "result = 3 * a + 2 * b - 4 * c\n",
        "\n",
        "# Выводим результат\n",
        "sp.pprint(result)"
      ]
    },
    {
      "cell_type": "markdown",
      "metadata": {
        "id": "vM81O4_UOwQ4"
      },
      "source": [
        "**Задача 2**\n",
        "\n",
        "Даны точки $\\mathbf{A}(3,-2)$ и $\\mathbf{B}(1,4)$. Точка $\\mathbf{M}$ лежит на прямой $\\mathbf{AB}$ так, что\n",
        "$|\\mathbf{AM}| = 3|\\mathbf{AB}|$. Найдите координаты точки $ \\mathbf{M}$, если точки $ \\mathbf{M}$ и $ \\mathbf{B}$ лежат по одну сторону от A."
      ]
    },
    {
      "cell_type": "code",
      "execution_count": 2,
      "metadata": {},
      "outputs": [
        {
          "name": "stdout",
          "output_type": "stream",
          "text": [
            "Координаты точки M: (-3, 16)\n"
          ]
        }
      ],
      "source": [
        "import math\n",
        "\n",
        "\n",
        "# Задаем координаты точек A и B\n",
        "a = (3, -2)\n",
        "b = (1, 4)\n",
        "\n",
        "# Находим координаты точки M, лежащей на прямой AB, такой что |AM| = 3|AB|.\n",
        "ab = (b[0] - a[0], b[1] - a[1])  # Вектор AB\n",
        "am = (3 * ab[0], 3 * ab[1])  # Вектор AM\n",
        "m = (a[0] + am[0], a[1] + am[1]) # Точка M\n",
        "\n",
        "print(f\"Координаты точки M: {m}\")"
      ]
    },
    {
      "cell_type": "markdown",
      "metadata": {
        "id": "OWZJlZtLSlw7"
      },
      "source": [
        "**Видео 4**"
      ]
    },
    {
      "attachments": {
        "image.png": {
          "image/png": "[encoded data removed]"
        }
      },
      "cell_type": "markdown",
      "metadata": {
        "id": "Livp6DYBSpyw"
      },
      "source": [
        "**Задача 1**\n",
        "\n",
        "![image.png](attachment:image.png)"
      ]
    },
    {
      "cell_type": "code",
      "execution_count": 24,
      "metadata": {},
      "outputs": [
        {
          "name": "stdout",
          "output_type": "stream",
          "text": [
            "Векторное произведение:\n",
            "\n",
            "⎡-37⎤\n",
            "⎢   ⎥\n",
            "⎢21 ⎥\n",
            "⎢   ⎥\n",
            "⎣-31⎦\n"
          ]
        }
      ],
      "source": [
        "import sympy as sp\n",
        "\n",
        "a = sp.Matrix([[-5], [3], [8]])  # Вектор a\n",
        "b = sp.Matrix([[2], [5], [1]])   # Вектор b\n",
        "\n",
        "# вычисляем произведене векторов\n",
        "vector_product = sp.Matrix.cross(a, b)\n",
        "\n",
        "# Вывод результата\n",
        "print(\"Векторное произведение:\\n\")\n",
        "sp.pprint(vector_product)"
      ]
    },
    {
      "attachments": {
        "image.png": {
          "image/png": "[encoded data removed]"
        }
      },
      "cell_type": "markdown",
      "metadata": {
        "id": "oZyT9AiDVrYm"
      },
      "source": [
        "**Задача 2**\n",
        "\n",
        "![image.png](attachment:image.png)\n"
      ]
    },
    {
      "cell_type": "code",
      "execution_count": 23,
      "metadata": {},
      "outputs": [
        {
          "name": "stdout",
          "output_type": "stream",
          "text": [
            "⎡-2⋅a₁₀⋅b₂₀ + 2⋅a₂₀⋅b₁₀⎤\n",
            "⎢                      ⎥\n",
            "⎢2⋅a₀₀⋅b₂₀ - 2⋅a₂₀⋅b₀₀ ⎥\n",
            "⎢                      ⎥\n",
            "⎣-2⋅a₀₀⋅b₁₀ + 2⋅a₁₀⋅b₀₀⎦\n"
          ]
        }
      ],
      "source": [
        "import sympy as sp\n",
        "from sympy import MatrixSymbol, Matrix\n",
        "\n",
        "# Определяем символические векторы a и b\n",
        "a = MatrixSymbol('a', 3, 1)\n",
        "b = MatrixSymbol('b', 3, 1)\n",
        "\n",
        "# Вычисляем (a + b) x (a - b)\n",
        "br = a + b\n",
        "cr = a - b\n",
        "result = sp.Matrix.cross(Matrix(br), Matrix(cr))\n",
        "\n",
        "# Упрощаем результат\n",
        "sim_result = sp.simplify(result)\n",
        "\n",
        "sp.pprint(sim_result)"
      ]
    },
    {
      "cell_type": "markdown",
      "metadata": {
        "id": "K7bPVLv5Wu-Q"
      },
      "source": [
        "**Задача 3**\n",
        "\n",
        "Все три вектора $\\vec{a}, \\vec{b},\\vec{c}$ имеют длину $3$, и $\\vec{a} + \\vec{b} + \\vec{c} = \\vec{0}$.\n",
        "\n",
        "Найдите результат вычисления: $\\vec{a} \\cdot \\vec{b} + \\vec{b} \\cdot \\vec{c} + \\vec{c} \\cdot \\vec{a}$.\n",
        "\n",
        "*Подсказка: необходимо нарисовать этот случай (треугольник)*."
      ]
    },
    {
      "cell_type": "code",
      "execution_count": 14,
      "metadata": {},
      "outputs": [
        {
          "name": "stdout",
          "output_type": "stream",
          "text": [
            "-27/2\n"
          ]
        }
      ],
      "source": [
        "from sympy import symbols, cos, pi\n",
        "\n",
        "# Длины векторов\n",
        "length_a = 3\n",
        "length_b = 3\n",
        "length_c = 3\n",
        "\n",
        "# Угол между векторами\n",
        "theta = 120 * pi / 180  # 120 градусов в радианах\n",
        "\n",
        "# Скалярные произведения\n",
        "dot_ab = length_a * length_b * cos(theta)\n",
        "dot_bc = length_b * length_c * cos(theta)\n",
        "dot_ca = length_c * length_a * cos(theta)\n",
        "\n",
        "# Общее выражение\n",
        "result = dot_ab + dot_bc + dot_ca\n",
        "print(result)"
      ]
    },
    {
      "cell_type": "markdown",
      "metadata": {
        "id": "O7z91_joZd1x"
      },
      "source": [
        "**Видео 6**"
      ]
    },
    {
      "cell_type": "markdown",
      "metadata": {
        "id": "K8eqoj7lZgfR"
      },
      "source": [
        "**Задача 1**\n",
        "\n",
        "Даны $A=\\begin{bmatrix} 2 & -1 & -1\\end{bmatrix}$ и $B=\\begin{bmatrix} -2 \\\\ -1 \\\\ 3 \\end{bmatrix}$. \\\\\n",
        "    1. Найдите $AB$ и $BA$, если они существуют. \\\\\n",
        "    2. Найдите $A^TB$ и $BA^T$, если они существуют."
      ]
    },
    {
      "cell_type": "code",
      "execution_count": 22,
      "metadata": {},
      "outputs": [
        {
          "name": "stdout",
          "output_type": "stream",
          "text": [
            "AB = Matrix([[-4], [-4], [-4]])\n",
            "BA = Matrix([[4], [4], [4]])\n",
            "ATB = Matrix([[-4, -4, -4]])\n",
            "BAT = Matrix([[4], [4], [4]])\n"
          ]
        }
      ],
      "source": [
        "import sympy as sp\n",
        "\n",
        "A = sp.Matrix([2, -1, -1])  # Вектор a\n",
        "B = sp.Matrix([[-2], [-1], [3]])  # Вектор b\n",
        "\n",
        "AB = sp.Matrix.cross(A, B)  # Векторное произведение векторов A и B\n",
        "BA = sp.Matrix.cross(B, A)  # Векторное произведение векторов B и A\n",
        "ATB = sp.Matrix.cross(A.T, B)  # Векторное произведение векторов A - transposed и B\n",
        "BAT = sp.Matrix.cross(B, A.T)  # Векторное произведение векторов B и A - transposed\n",
        "\n",
        "print(f\"AB = {AB}\")\n",
        "print(f\"BA = {BA}\")\n",
        "print(f\"ATB = {ATB}\")\n",
        "print(f\"BAT = {BAT}\")"
      ]
    },
    {
      "cell_type": "markdown",
      "metadata": {
        "id": "o0sRsg7DcnWl"
      },
      "source": [
        "**Задача 2**\n",
        "\n",
        "Дана матрица $A = \\begin{bmatrix} 1 & 4 \\\\ 9 & 1\\end{bmatrix}$.\n",
        "\n",
        "Найдите $l$, если определитель $A - El$ равен $0$, где $E$ — единичная матрица."
      ]
    },
    {
      "cell_type": "code",
      "execution_count": 18,
      "metadata": {},
      "outputs": [
        {
          "name": "stdout",
          "output_type": "stream",
          "text": [
            "решение уравнения = [-5, 7]\n"
          ]
        }
      ],
      "source": [
        "from sympy import symbols, Matrix, solve\n",
        "import sympy as sp\n",
        "\n",
        "# Определяем символ l\n",
        "l = symbols('l')\n",
        "\n",
        "# Задаем матрицу A\n",
        "A = Matrix([[1, 4], [9, 1]])\n",
        "\n",
        "# Задаем единичную матрицу E\n",
        "E = Matrix([[1, 0], [0, 1]])\n",
        "\n",
        "# Вычисляем матрицу A - lE\n",
        "br = A - l * E\n",
        "\n",
        "# Вычисляем определитель матрицы A - lE\n",
        "mx_det = br.det()\n",
        "\n",
        "# вычислыем результат\n",
        "result = solve(mx_det, l)\n",
        "\n",
        "# Выводим результат\n",
        "print(f\"решение уравнения = {result}\")"
      ]
    },
    {
      "cell_type": "markdown",
      "metadata": {
        "id": "0AQGm3v5eQwr"
      },
      "source": [
        "**Видео 7**"
      ]
    },
    {
      "cell_type": "markdown",
      "metadata": {
        "id": "F0QA2ARJeS_Z"
      },
      "source": [
        "**Задача 1**\n",
        "\n",
        "Вычислите ранг матрицы $\\begin{bmatrix}1&2\\\\2&4\\\\1&1\\end{bmatrix}$ с помощью функции $rank()$ и c помощью $rref()$."
      ]
    },
    {
      "cell_type": "code",
      "execution_count": 17,
      "metadata": {},
      "outputs": [
        {
          "name": "stdout",
          "output_type": "stream",
          "text": [
            "Ранг матрицы (rank(A)):\n",
            "2\n",
            "Приведенная к ступенчатому виду матрица (RREF):\n",
            "\n",
            "⎡1  0⎤\n",
            "⎢    ⎥\n",
            "⎢0  1⎥\n",
            "⎢    ⎥\n",
            "⎣0  0⎦\n"
          ]
        }
      ],
      "source": [
        "from sympy import Matrix\n",
        "\n",
        "# Определяем матрицу A\n",
        "A = Matrix([[1, 2],\n",
        "            [2, 4],\n",
        "            [1, 1]])\n",
        "\n",
        "# Вычисляем ранг матрицы\n",
        "rank_A = A.rank()\n",
        "\n",
        "# Выводим ранг\n",
        "print(\"Ранг матрицы (rank(A)):\")\n",
        "print(rank_A)\n",
        "\n",
        "\n",
        "# Вычисляем RREF\n",
        "rref_matrix, pr = A.rref()\n",
        "print(\"Приведенная к ступенчатому виду матрица (RREF):\\n\")\n",
        "sp.pprint(rref_matrix)\n"
      ]
    },
    {
      "cell_type": "markdown",
      "metadata": {
        "id": "oMGa7GfcfGZ5"
      },
      "source": [
        "**Видео 8**"
      ]
    },
    {
      "cell_type": "markdown",
      "metadata": {
        "id": "4h1m1wRVfJui"
      },
      "source": [
        "**Задача 1**\n",
        "\n",
        "Решите уравнения:\n",
        "\n",
        "1) $\\begin{bmatrix}2&5\\\\1&3\\end{bmatrix}X=\\begin{bmatrix}2&1\\\\1&1\\end{bmatrix}$; \\\\\n",
        "2)  $X\\begin{bmatrix}2&5\\\\1&3\\end{bmatrix}=\\begin{bmatrix}2&1\\\\1&1\\end{bmatrix}$;"
      ]
    },
    {
      "cell_type": "code",
      "execution_count": 13,
      "metadata": {},
      "outputs": [
        {
          "name": "stdout",
          "output_type": "stream",
          "text": [
            "Решение уравнения 1:\n",
            "⎡1  -2⎤\n",
            "⎢     ⎥\n",
            "⎣0  1 ⎦\n",
            "\n",
            "Решение уравнения 2:\n",
            "⎡5  -8⎤\n",
            "⎢     ⎥\n",
            "⎣2  -3⎦\n"
          ]
        }
      ],
      "source": [
        "import sympy as sp\n",
        "\n",
        "# Уравнение 1: AX = B\n",
        "A = sp.Matrix([[2, 5], [1, 3]])\n",
        "B = sp.Matrix([[2, 1], [1, 1]])\n",
        "\n",
        "# Решение уравнения AX = B\n",
        "X1 = A.inv() * B\n",
        "print(\"Решение уравнения 1:\")\n",
        "sp.pprint(X1)\n",
        "\n",
        "# Уравнение 2: XC = D\n",
        "C = sp.Matrix([[2, 5], [1, 3]])\n",
        "D = sp.Matrix([[2, 1], [1, 1]])\n",
        "\n",
        "# Решение уравнения XC = D, чтобы решить нужно найти X как D * C.inv()\n",
        "X2 = D * C.inv()\n",
        "print(\"\\nРешение уравнения 2:\")\n",
        "sp.pprint(X2)\n"
      ]
    },
    {
      "cell_type": "markdown",
      "metadata": {
        "id": "K1oVG0UKgkH5"
      },
      "source": [
        "**Задача 2**\n",
        "\n",
        "Найдите значения $AA^+$, $AA^+A$ и $A^+A$, если $A=\\begin{bmatrix}3 \\\\ 7 \\\\ 2\\end{bmatrix}$."
      ]
    },
    {
      "cell_type": "code",
      "execution_count": 11,
      "metadata": {},
      "outputs": [
        {
          "name": "stdout",
          "output_type": "stream",
          "text": [
            "Псевдообратная матрица A+:\n",
            "[3/62  7/62  1/31]\n",
            "\n",
            "AA+:\n",
            "⎡       21       ⎤\n",
            "⎢9/62   ──   3/31⎥\n",
            "⎢       62       ⎥\n",
            "⎢                ⎥\n",
            "⎢ 21    49       ⎥\n",
            "⎢ ──    ──   7/31⎥\n",
            "⎢ 62    62       ⎥\n",
            "⎢                ⎥\n",
            "⎣3/31  7/31  2/31⎦\n",
            "\n",
            "AA+A:\n",
            "⎡3⎤\n",
            "⎢ ⎥\n",
            "⎢7⎥\n",
            "⎢ ⎥\n",
            "⎣2⎦\n",
            "\n",
            "A+A:\n",
            "[1]\n"
          ]
        }
      ],
      "source": [
        "import sympy as sp\n",
        "\n",
        "# Определяем матрицу A\n",
        "A = sp.Matrix([[3], [7], [2]])\n",
        "\n",
        "# Вычисляем псевдообратную матрицу A+\n",
        "A_pseudo = A.pinv()\n",
        "\n",
        "# Вычисляем AA+\n",
        "AA_pseudo = A * A_pseudo\n",
        "\n",
        "# Вычисляем AA+A\n",
        "AA_pseudo_A = AA_pseudo * A\n",
        "\n",
        "# Вычисляем A+A\n",
        "A_pseudo_A = A_pseudo * A\n",
        "\n",
        "# Вывод результатов\n",
        "print(\"Псевдообратная матрица A+:\")\n",
        "sp.pprint(A_pseudo)\n",
        "\n",
        "print(\"\\nAA+:\")\n",
        "sp.pprint(AA_pseudo)\n",
        "\n",
        "print(\"\\nAA+A:\")\n",
        "sp.pprint(AA_pseudo_A)\n",
        "\n",
        "print(\"\\nA+A:\")\n",
        "sp.pprint(A_pseudo_A)"
      ]
    },
    {
      "cell_type": "markdown",
      "metadata": {
        "id": "UFekP9kYi79L"
      },
      "source": [
        "**Видео 9**"
      ]
    },
    {
      "cell_type": "markdown",
      "metadata": {
        "id": "A0fDN564i-QB"
      },
      "source": [
        "**Задача 1**\n",
        "\n",
        "Решите уравнения:\n",
        "\n",
        "1) $x^2 + 2x + 4 =0$ \\\\\n",
        "2) $\\bar{x} = 2 + 2x$"
      ]
    },
    {
      "cell_type": "code",
      "execution_count": 29,
      "metadata": {},
      "outputs": [
        {
          "name": "stdout",
          "output_type": "stream",
          "text": [
            "Решение уравнения 1:\n",
            "[-1 - √3⋅ⅈ, -1 + √3⋅ⅈ]\n",
            "\n",
            "Решение уравнения 2:\n",
            "{a: -2, b: 0}\n"
          ]
        }
      ],
      "source": [
        "import sympy as sp\n",
        "\n",
        "# Уравнение 1: x^2 + 2x + 4 = 0\n",
        "x = sp.symbols('x')\n",
        "equation1 = x**2 + 2*x + 4\n",
        "\n",
        "# Решаем уравнение\n",
        "solution1 = sp.solve(equation1, x)\n",
        "print(\"Решение уравнения 1:\")\n",
        "sp.pprint(solution1)\n",
        "\n",
        "\"\"\"Это уравнение с комплексным числом x. Здесь x— это комплексно-сопряженное число x. \n",
        "Мы можем записать x как a+bi, где a и b — действительные числа, а i — мнимая единица. Тогда  x =a−bi\"\"\"\n",
        "\n",
        "# Уравнение 2: x_b = 2 + 2x\n",
        "a, b = sp.symbols('a b', real=True)\n",
        "x_complex = a + b*sp.I  # x = a + bi\n",
        "x_conjugate = a - b*sp.I  # x_b = a - bi\n",
        "equation2 = sp.Eq(x_conjugate, 2 + 2*x_complex)\n",
        "\n",
        "# Разделяем на действительную и мнимую части\n",
        "real_part = sp.re(equation2.lhs) - sp.re(equation2.rhs)\n",
        "imaginary_part = sp.im(equation2.lhs) - sp.im(equation2.rhs)\n",
        "\n",
        "# Решаем систему уравнений\n",
        "solution2 = sp.solve((real_part, imaginary_part), (a, b))\n",
        "print(\"\\nРешение уравнения 2:\")\n",
        "sp.pprint(solution2)"
      ]
    }
  ],
  "metadata": {
    "colab": {
      "provenance": []
    },
    "kernelspec": {
      "display_name": "Python 3",
      "name": "python3"
    },
    "language_info": {
      "codemirror_mode": {
        "name": "ipython",
        "version": 3
      },
      "file_extension": ".py",
      "mimetype": "text/x-python",
      "name": "python",
      "nbconvert_exporter": "python",
      "pygments_lexer": "ipython3",
      "version": "3.11.11"
    }
  },
  "nbformat": 4,
  "nbformat_minor": 0
}
