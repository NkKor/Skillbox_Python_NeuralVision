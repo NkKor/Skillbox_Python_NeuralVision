{
  "cells": [
    {
      "cell_type": "markdown",
      "metadata": {
        "id": "6OHEdTw9OyBS"
      },
      "source": [
        "**Видео 2**"
      ]
    },
    {
      "cell_type": "markdown",
      "metadata": {
        "id": "z6Di9BG8PDqS"
      },
      "source": [
        "**Задача 1**\n",
        "\n",
        "Даны векторы $\\vec{a} = \\begin{bmatrix}\n",
        "    1 \\\\ 2 \\\\ 3\n",
        "\\end{bmatrix}$,\n",
        "$\\vec{b} = \\begin{bmatrix}\n",
        "    -5 \\\\ -1 \\\\ 6\n",
        "\\end{bmatrix}$, $\\vec{c} = \\begin{bmatrix}\n",
        "    -1 \\\\ 3 \\\\ 9\n",
        "\\end{bmatrix}$.\n",
        "\n",
        "Найдите результат вычисления: $3\\vec{a} + 2\\vec{b} - 4\\vec{c}$."
      ]
    },
    {
      "cell_type": "code",
      "execution_count": 1,
      "metadata": {},
      "outputs": [
        {
          "name": "stdout",
          "output_type": "stream",
          "text": [
            "[[ -3]\n",
            " [ -8]\n",
            " [-15]]\n"
          ]
        }
      ],
      "source": [
        "import numpy as np\n",
        "\n",
        "# Задаем матрицы-столбцы\n",
        "a = np.array([[1], [2], [3]])\n",
        "b = np.array([[-5], [-1], [6]])\n",
        "c = np.array([[-1], [3], [9]])\n",
        "\n",
        "# Вычисляем выражение\n",
        "result = 3 * a + 2 * b - 4 * c\n",
        "\n",
        "# Выводим результат\n",
        "print(result)"
      ]
    },
    {
      "cell_type": "markdown",
      "metadata": {
        "id": "vM81O4_UOwQ4"
      },
      "source": [
        "**Задача 2**\n",
        "\n",
        "Даны точки $\\mathbf{A}(3,-2)$ и $\\mathbf{B}(1,4)$. Точка $\\mathbf{M}$ лежит на прямой $\\mathbf{AB}$ так, что\n",
        "$|\\mathbf{AM}| = 3|\\mathbf{AB}|$. Найдите координаты точки $ \\mathbf{M}$, если точки $ \\mathbf{M}$ и $ \\mathbf{B}$ лежат по одну сторону от A."
      ]
    },
    {
      "cell_type": "code",
      "execution_count": 2,
      "metadata": {},
      "outputs": [
        {
          "name": "stdout",
          "output_type": "stream",
          "text": [
            "Координаты точки M: (-3, 16)\n"
          ]
        }
      ],
      "source": [
        "import math\n",
        "\n",
        "\n",
        "# Задаем координаты точек A и B\n",
        "a = (3, -2)\n",
        "b = (1, 4)\n",
        "\n",
        "# Находим координаты точки M, лежащей на прямой AB, такой что |AM| = 3|AB|.\n",
        "ab = (b[0] - a[0], b[1] - a[1])  # Вектор AB\n",
        "am = (3 * ab[0], 3 * ab[1])  # Вектор AM\n",
        "m = (a[0] + am[0], a[1] + am[1]) # Точка M\n",
        "\n",
        "print(f\"Координаты точки M: {m}\")"
      ]
    },
    {
      "cell_type": "markdown",
      "metadata": {
        "id": "OWZJlZtLSlw7"
      },
      "source": [
        "**Видео 4**"
      ]
    },
    {
      "attachments": {
        "image.png": {
          "image/png": "[encoded data removed]"
        }
      },
      "cell_type": "markdown",
      "metadata": {
        "id": "Livp6DYBSpyw"
      },
      "source": [
        "**Задача 1**\n",
        "\n",
        "![image.png](attachment:image.png)"
      ]
    },
    {
      "cell_type": "code",
      "execution_count": null,
      "metadata": {},
      "outputs": [],
      "source": []
    },
    {
      "cell_type": "markdown",
      "metadata": {
        "id": "oZyT9AiDVrYm"
      },
      "source": [
        "**Задача 2**\n",
        "\n",
        "Упростите выражение:\n",
        "    \\begin{align*}\n",
        "        (\\vec{a} + \\vec{b} ) \\times (\\vec{a} - \\vec{b})\n",
        "    \\end{align*}\n",
        "\n"
      ]
    },
    {
      "cell_type": "code",
      "execution_count": null,
      "metadata": {},
      "outputs": [],
      "source": []
    },
    {
      "cell_type": "markdown",
      "metadata": {
        "id": "K7bPVLv5Wu-Q"
      },
      "source": [
        "**Задача 3**\n",
        "\n",
        "Все три вектора $\\vec{a}, \\vec{b},\\vec{c}$ имеют длину $3$, и $\\vec{a} + \\vec{b} + \\vec{c} = \\vec{0}$.\n",
        "\n",
        "Найдите результат вычисления: $\\vec{a} \\cdot \\vec{b} + \\vec{b} \\cdot \\vec{c} + \\vec{c} \\cdot \\vec{a}$.\n",
        "\n",
        "*Подсказка: необходимо нарисовать этот случай (треугольник)*."
      ]
    },
    {
      "cell_type": "code",
      "execution_count": null,
      "metadata": {},
      "outputs": [],
      "source": []
    },
    {
      "cell_type": "markdown",
      "metadata": {
        "id": "O7z91_joZd1x"
      },
      "source": [
        "**Видео 6**"
      ]
    },
    {
      "cell_type": "markdown",
      "metadata": {
        "id": "K8eqoj7lZgfR"
      },
      "source": [
        "**Задача 1**\n",
        "\n",
        "Даны $A=\\begin{bmatrix} 2 & -1 & -1\\end{bmatrix}$ и $B=\\begin{bmatrix} -2 \\\\ -1 \\\\ 3 \\end{bmatrix}$. \\\\\n",
        "    1. Найдите $AB$ и $BA$, если они существуют. \\\\\n",
        "    2. Найдите $A^TB$ и $BA^T$, если они существуют."
      ]
    },
    {
      "cell_type": "code",
      "execution_count": null,
      "metadata": {},
      "outputs": [],
      "source": []
    },
    {
      "cell_type": "markdown",
      "metadata": {
        "id": "o0sRsg7DcnWl"
      },
      "source": [
        "**Задача 2**\n",
        "\n",
        "Дана матрица $A = \\begin{bmatrix} 1 & 4 \\\\ 9 & 1\\end{bmatrix}$.\n",
        "\n",
        "Найдите $l$, если определитель $A - El$ равен $0$, где $E$ — единичная матрица."
      ]
    },
    {
      "cell_type": "code",
      "execution_count": null,
      "metadata": {},
      "outputs": [],
      "source": []
    },
    {
      "cell_type": "markdown",
      "metadata": {
        "id": "0AQGm3v5eQwr"
      },
      "source": [
        "**Видео 7**"
      ]
    },
    {
      "cell_type": "markdown",
      "metadata": {
        "id": "F0QA2ARJeS_Z"
      },
      "source": [
        "**Задача 1**\n",
        "\n",
        "Вычислите ранг матрицы $\\begin{bmatrix}1&2\\\\2&4\\\\1&1\\end{bmatrix}$ с помощью функции $rank()$ и c помощью $rref()$."
      ]
    },
    {
      "cell_type": "code",
      "execution_count": null,
      "metadata": {},
      "outputs": [],
      "source": []
    },
    {
      "cell_type": "markdown",
      "metadata": {
        "id": "oMGa7GfcfGZ5"
      },
      "source": [
        "**Видео 8**"
      ]
    },
    {
      "cell_type": "markdown",
      "metadata": {
        "id": "4h1m1wRVfJui"
      },
      "source": [
        "**Задача 1**\n",
        "\n",
        "Решите уравнения:\n",
        "\n",
        "1) $\\begin{bmatrix}2&5\\\\1&3\\end{bmatrix}X=\\begin{bmatrix}2&1\\\\1&1\\end{bmatrix}$; \\\\\n",
        "2)  $X\\begin{bmatrix}2&5\\\\1&3\\end{bmatrix}=\\begin{bmatrix}2&1\\\\1&1\\end{bmatrix}$;"
      ]
    },
    {
      "cell_type": "code",
      "execution_count": null,
      "metadata": {},
      "outputs": [],
      "source": []
    },
    {
      "cell_type": "markdown",
      "metadata": {
        "id": "K1oVG0UKgkH5"
      },
      "source": [
        "**Задача 2**\n",
        "\n",
        "Найдите значения $AA^+$, $AA^+A$ и $A^+A$, если $A=\\begin{bmatrix}3 \\\\ 7 \\\\ 2\\end{bmatrix}$."
      ]
    },
    {
      "cell_type": "code",
      "execution_count": null,
      "metadata": {},
      "outputs": [],
      "source": []
    },
    {
      "cell_type": "markdown",
      "metadata": {
        "id": "UFekP9kYi79L"
      },
      "source": [
        "**Видео 9**"
      ]
    },
    {
      "cell_type": "markdown",
      "metadata": {
        "id": "A0fDN564i-QB"
      },
      "source": [
        "**Задача 1**\n",
        "\n",
        "Решите уравнения:\n",
        "\n",
        "1) $x^2 + 2x + 4 =0$ \\\\\n",
        "2) $\\bar{x} = 2 + 2x$"
      ]
    },
    {
      "cell_type": "code",
      "execution_count": null,
      "metadata": {},
      "outputs": [],
      "source": []
    }
  ],
  "metadata": {
    "colab": {
      "provenance": []
    },
    "kernelspec": {
      "display_name": "Python 3",
      "name": "python3"
    },
    "language_info": {
      "codemirror_mode": {
        "name": "ipython",
        "version": 3
      },
      "file_extension": ".py",
      "mimetype": "text/x-python",
      "name": "python",
      "nbconvert_exporter": "python",
      "pygments_lexer": "ipython3",
      "version": "3.11.11"
    }
  },
  "nbformat": 4,
  "nbformat_minor": 0
}
