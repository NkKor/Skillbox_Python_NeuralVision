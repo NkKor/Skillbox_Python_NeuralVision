{
 "cells": [
  {
   "cell_type": "code",
   "execution_count": null,
   "metadata": {},
   "outputs": [],
   "source": [
    "# векторное и скалярное произведение векторов"
   ]
  },
  {
   "cell_type": "code",
   "execution_count": 3,
   "metadata": {},
   "outputs": [
    {
     "data": {
      "text/latex": [
       "$\\displaystyle \\left[\\begin{matrix}- \\left(2 {a}_{1,0} + 1.5 {b}_{1,0} - 3 {c}_{1,0}\\right) \\left(3 {a}_{2,0} - {b}_{2,0} - 0.333333333333333 {c}_{2,0}\\right) + \\left(3 {a}_{1,0} - {b}_{1,0} - 0.333333333333333 {c}_{1,0}\\right) \\left(2 {a}_{2,0} + 1.5 {b}_{2,0} - 3 {c}_{2,0}\\right)\\\\\\left(2 {a}_{0,0} + 1.5 {b}_{0,0} - 3 {c}_{0,0}\\right) \\left(3 {a}_{2,0} - {b}_{2,0} - 0.333333333333333 {c}_{2,0}\\right) - \\left(3 {a}_{0,0} - {b}_{0,0} - 0.333333333333333 {c}_{0,0}\\right) \\left(2 {a}_{2,0} + 1.5 {b}_{2,0} - 3 {c}_{2,0}\\right)\\\\- \\left(2 {a}_{0,0} + 1.5 {b}_{0,0} - 3 {c}_{0,0}\\right) \\left(3 {a}_{1,0} - {b}_{1,0} - 0.333333333333333 {c}_{1,0}\\right) + \\left(3 {a}_{0,0} - {b}_{0,0} - 0.333333333333333 {c}_{0,0}\\right) \\left(2 {a}_{1,0} + 1.5 {b}_{1,0} - 3 {c}_{1,0}\\right)\\end{matrix}\\right]$"
      ],
      "text/plain": [
       "Matrix([\n",
       "[-(2*a[1, 0] + 1.5*b[1, 0] - 3*c[1, 0])*(3*a[2, 0] - b[2, 0] - 0.333333333333333*c[2, 0]) + (3*a[1, 0] - b[1, 0] - 0.333333333333333*c[1, 0])*(2*a[2, 0] + 1.5*b[2, 0] - 3*c[2, 0])],\n",
       "[ (2*a[0, 0] + 1.5*b[0, 0] - 3*c[0, 0])*(3*a[2, 0] - b[2, 0] - 0.333333333333333*c[2, 0]) - (3*a[0, 0] - b[0, 0] - 0.333333333333333*c[0, 0])*(2*a[2, 0] + 1.5*b[2, 0] - 3*c[2, 0])],\n",
       "[-(2*a[0, 0] + 1.5*b[0, 0] - 3*c[0, 0])*(3*a[1, 0] - b[1, 0] - 0.333333333333333*c[1, 0]) + (3*a[0, 0] - b[0, 0] - 0.333333333333333*c[0, 0])*(2*a[1, 0] + 1.5*b[1, 0] - 3*c[1, 0])]])"
      ]
     },
     "execution_count": 3,
     "metadata": {},
     "output_type": "execute_result"
    }
   ],
   "source": [
    "from sympy import MatrixSymbol, Matrix\n",
    "import sympy as sp\n",
    "\n",
    "a = MatrixSymbol('a',3,1)  # Пример вектора a\n",
    "b = MatrixSymbol('b',3,1)  # Пример вектора b\n",
    "c = MatrixSymbol('c',3,1)  # Пример вектора c\n",
    "\n",
    "br = 3*a - b - (1/3*c)\n",
    "cr = 2*a + 3/2*b - 3*c\n",
    "d = sp.Matrix.cross(Matrix(br), Matrix(cr))\n",
    "d\n",
    "# print(d)"
   ]
  },
  {
   "cell_type": "code",
   "execution_count": 4,
   "metadata": {},
   "outputs": [
    {
     "data": {
      "text/latex": [
       "$\\displaystyle \\left[\\begin{matrix}6.5 {a}_{1,0} {b}_{2,0} - 8.33333333333333 {a}_{1,0} {c}_{2,0} - 6.5 {a}_{2,0} {b}_{1,0} + 8.33333333333333 {a}_{2,0} {c}_{1,0} + 3.5 {b}_{1,0} {c}_{2,0} - 3.5 {b}_{2,0} {c}_{1,0}\\\\- 6.5 {a}_{0,0} {b}_{2,0} + 8.33333333333333 {a}_{0,0} {c}_{2,0} + 6.5 {a}_{2,0} {b}_{0,0} - 8.33333333333333 {a}_{2,0} {c}_{0,0} - 3.5 {b}_{0,0} {c}_{2,0} + 3.5 {b}_{2,0} {c}_{0,0}\\\\6.5 {a}_{0,0} {b}_{1,0} - 8.33333333333333 {a}_{0,0} {c}_{1,0} - 6.5 {a}_{1,0} {b}_{0,0} + 8.33333333333333 {a}_{1,0} {c}_{0,0} + 3.5 {b}_{0,0} {c}_{1,0} - 3.5 {b}_{1,0} {c}_{0,0}\\end{matrix}\\right]$"
      ],
      "text/plain": [
       "Matrix([\n",
       "[ 6.5*a[1, 0]*b[2, 0] - 8.33333333333333*a[1, 0]*c[2, 0] - 6.5*a[2, 0]*b[1, 0] + 8.33333333333333*a[2, 0]*c[1, 0] + 3.5*b[1, 0]*c[2, 0] - 3.5*b[2, 0]*c[1, 0]],\n",
       "[-6.5*a[0, 0]*b[2, 0] + 8.33333333333333*a[0, 0]*c[2, 0] + 6.5*a[2, 0]*b[0, 0] - 8.33333333333333*a[2, 0]*c[0, 0] - 3.5*b[0, 0]*c[2, 0] + 3.5*b[2, 0]*c[0, 0]],\n",
       "[ 6.5*a[0, 0]*b[1, 0] - 8.33333333333333*a[0, 0]*c[1, 0] - 6.5*a[1, 0]*b[0, 0] + 8.33333333333333*a[1, 0]*c[0, 0] + 3.5*b[0, 0]*c[1, 0] - 3.5*b[1, 0]*c[0, 0]]])"
      ]
     },
     "execution_count": 4,
     "metadata": {},
     "output_type": "execute_result"
    }
   ],
   "source": [
    "simb = sp.simplify(d)\n",
    "simb"
   ]
  },
  {
   "cell_type": "code",
   "execution_count": 5,
   "metadata": {},
   "outputs": [
    {
     "data": {
      "text/latex": [
       "$\\displaystyle -5$"
      ],
      "text/plain": [
       "-5"
      ]
     },
     "execution_count": 5,
     "metadata": {},
     "output_type": "execute_result"
    }
   ],
   "source": [
    "import sympy as sp\n",
    "a = sp.Matrix([[1], [-1], [1]])\n",
    "b = sp.Matrix([[-5], [-1], [-1]])\n",
    "dpr = sp.Matrix.dot(a, b)\n",
    "dpr"
   ]
  },
  {
   "cell_type": "code",
   "execution_count": 6,
   "metadata": {},
   "outputs": [
    {
     "data": {
      "text/latex": [
       "$\\displaystyle - \\frac{5}{9}$"
      ],
      "text/plain": [
       "-5/9"
      ]
     },
     "execution_count": 6,
     "metadata": {},
     "output_type": "execute_result"
    }
   ],
   "source": [
    "all = dpr/(a.norm()*b.norm())\n",
    "all"
   ]
  },
  {
   "cell_type": "code",
   "execution_count": 7,
   "metadata": {},
   "outputs": [
    {
     "data": {
      "text/latex": [
       "$\\displaystyle \\operatorname{acos}{\\left(- \\frac{5}{9} \\right)}$"
      ],
      "text/plain": [
       "acos(-5/9)"
      ]
     },
     "execution_count": 7,
     "metadata": {},
     "output_type": "execute_result"
    }
   ],
   "source": [
    "sp.acos(all)\n"
   ]
  },
  {
   "cell_type": "code",
   "execution_count": null,
   "metadata": {},
   "outputs": [],
   "source": [
    "# Понятие матрицы и операции сложения и умножения"
   ]
  },
  {
   "cell_type": "code",
   "execution_count": 8,
   "metadata": {},
   "outputs": [],
   "source": [
    "import sympy as sp\n",
    "\n",
    "A = sp.Matrix([[5, -2], [1, 6]])\n",
    "B = sp.Matrix([[1, -3, -1], [-2, 7, 2], [3, 2, -4]])\n",
    "C = sp.Matrix([[1, 3], [-2, 0], [3, 0]])"
   ]
  },
  {
   "cell_type": "code",
   "execution_count": 9,
   "metadata": {},
   "outputs": [
    {
     "data": {
      "text/latex": [
       "$\\displaystyle 32$"
      ],
      "text/plain": [
       "32"
      ]
     },
     "execution_count": 9,
     "metadata": {},
     "output_type": "execute_result"
    }
   ],
   "source": [
    "sp.det(A)"
   ]
  },
  {
   "cell_type": "code",
   "execution_count": null,
   "metadata": {},
   "outputs": [],
   "source": [
    "sp.det(C)"
   ]
  }
 ],
 "metadata": {
  "kernelspec": {
   "display_name": "Python 3",
   "language": "python",
   "name": "python3"
  },
  "language_info": {
   "codemirror_mode": {
    "name": "ipython",
    "version": 3
   },
   "file_extension": ".py",
   "mimetype": "text/x-python",
   "name": "python",
   "nbconvert_exporter": "python",
   "pygments_lexer": "ipython3",
   "version": "3.11.11"
  }
 },
 "nbformat": 4,
 "nbformat_minor": 2
}
