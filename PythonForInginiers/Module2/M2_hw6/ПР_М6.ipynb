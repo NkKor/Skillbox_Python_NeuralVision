{
  "nbformat": 4,
  "nbformat_minor": 0,
  "metadata": {
    "colab": {
      "provenance": []
    },
    "kernelspec": {
      "name": "python3",
      "display_name": "Python 3"
    },
    "language_info": {
      "name": "python"
    }
  },
  "cells": [
    {
      "cell_type": "markdown",
      "source": [
        "# Видео 2"
      ],
      "metadata": {
        "id": "67m25UgLW5sq"
      }
    },
    {
      "cell_type": "markdown",
      "source": [
        "## Задача 1"
      ],
      "metadata": {
        "id": "ibDNB0ejCRIW"
      }
    },
    {
      "cell_type": "markdown",
      "source": [
        "\n",
        "$F(x) = \\left\\{\\begin{matrix}\n",
        "0, \\text{если } x < 0 \\\\\n",
        "\\frac{x^2}{2}, \\text{если } 0 \\leq x \\leq \\sqrt{2}\\\\\n",
        "1, \\text{если }  x > \\sqrt{2}\n",
        "\\end{matrix}\\right.$\n",
        "\n",
        "1. Постройте график данной функции распределения.\n",
        "2. Найдите вероятность того, что Х примет значение, принадлежащее интервалу $X \\in (0.2;1)$."
      ],
      "metadata": {
        "id": "pnOezishNmSe"
      }
    },
    {
      "cell_type": "markdown",
      "source": [
        "## Задача 2"
      ],
      "metadata": {
        "id": "qMvaUXbtXC6p"
      }
    },
    {
      "cell_type": "markdown",
      "source": [
        "Постройте данные функции и определите, являются ли они плотностью распределения некоторой случайной величины:\n",
        "1. $f(x) = \\dfrac{x}{\\pi(1+x^2)},\\ x \\in (-\\inf,+\\inf)$\n",
        "2. $f(x) = \\left\\{\\begin{matrix}\n",
        "\\dfrac{1}{2},\\ x \\in (-1;1] \\\\\n",
        "0,\\ x \\notin (-1;1] \\end{matrix}\\right.$\n",
        "3. $f(x) = \\left\\{\\begin{matrix}\n",
        "0, \\text{ если } x < 0\\  \\&\\  x > 2 \\\\\n",
        "ax^2, \\text{ если } 0 \\leq x \\leq 2\n",
        "\\end{matrix}\\right.$"
      ],
      "metadata": {
        "id": "Mylj6EXiZfeG"
      }
    },
    {
      "cell_type": "markdown",
      "source": [
        "# Видео 3"
      ],
      "metadata": {
        "id": "xeLCck9KRNgH"
      }
    },
    {
      "cell_type": "markdown",
      "source": [
        "## Задача 1"
      ],
      "metadata": {
        "id": "vinxNQrSNc5L"
      }
    },
    {
      "cell_type": "markdown",
      "source": [
        "Известно, что случайная величина $X$ задана нормальным распределением $N(3,2)$. Найдите:\n",
        "\n",
        "1. $p\\{-3 <X<5\\}$\n",
        "2. $p\\{X \\leq 4\\}$"
      ],
      "metadata": {
        "id": "D1gpz7Hags4z"
      }
    },
    {
      "cell_type": "markdown",
      "source": [
        "## Задача 2"
      ],
      "metadata": {
        "id": "8SaBWbpphm7k"
      }
    },
    {
      "cell_type": "markdown",
      "source": [
        "Случайная величина $Т$ — время работы радиолампы. Она имеет экспоненциальное распределение.\n",
        "\n",
        "Найдите вероятность того, что лампа проработает не менее $800$ часов, если среднее время работы лампы — $400$. Постройте график плотности распределения и функции распределения."
      ],
      "metadata": {
        "id": "HNxL844EhpJo"
      }
    },
    {
      "cell_type": "markdown",
      "source": [
        "# Видео 4"
      ],
      "metadata": {
        "id": "Jib1nDvRW7tU"
      }
    },
    {
      "cell_type": "markdown",
      "source": [
        "## Задача 1"
      ],
      "metadata": {
        "id": "vHmUZ-vb9wmZ"
      }
    },
    {
      "cell_type": "markdown",
      "source": [
        "В соревнованиях по стрельбе из лука два участника. Матч длится два раунда, засчитывается последний. Каждый участник сделал по 20 выстрелов. Очки считаются по сумме выстрелов.\n",
        "\n",
        "На основе полученных данных у первого стрелка вышло распределение Рэлея (отклонение от попадания в яблочко $10$) $Ray(0,3)$, у другого — $Ray(5,1)$. Оба лучника в отличной форме и за один раунд лучше стрелять не научатся.\n",
        "\n",
        "У кого шанс выиграть выше и что нужно для этого сделать данному лучнику?\n",
        "\n",
        "Необходимо:\n",
        "1. Построить результаты распределения после первого раунда на одном графике.\n",
        "2. Описать, кто выиграет и что для этого нужно сделать данному лучнику.\n",
        "3. Проверить гипотезу численно, сгенерировав полученный результат. Для упрощения считаем, что можно получать дробные числа."
      ],
      "metadata": {
        "id": "_9geyGiG9zXY"
      }
    },
    {
      "cell_type": "markdown",
      "source": [
        "# Видео 5"
      ],
      "metadata": {
        "id": "YyUv0lUv1YS2"
      }
    },
    {
      "cell_type": "markdown",
      "source": [
        "## Задача 1"
      ],
      "metadata": {
        "id": "ke-_CEUT1azR"
      }
    },
    {
      "cell_type": "markdown",
      "source": [
        "Случайные величины имеют нормальное распределение с $N \\left[ \\left(\\begin{matrix}-5 \\\\ 2 \\end{matrix}\\right), \\left(\\begin{matrix}0.5 & 0.2\\\\ 0.2 & 0.4 \\end{matrix}\\right)\\right]$\n",
        "\n",
        "Необходимо найти математическое ожидание и дисперсию случайной величины $z=4X-5Y+25$.\n",
        "\n",
        "*Подсказка*: стоит посмотреть на свойства мат. ожидания и дисперсии в «Википедии»."
      ],
      "metadata": {
        "id": "6QY3TGwn1dRC"
      }
    },
    {
      "cell_type": "markdown",
      "source": [
        "# Видео 6"
      ],
      "metadata": {
        "id": "jUAfF30xEDoD"
      }
    },
    {
      "cell_type": "markdown",
      "source": [
        "## Задача 1"
      ],
      "metadata": {
        "id": "6IWprdH5HN_8"
      }
    },
    {
      "cell_type": "markdown",
      "source": [
        "$A,\\ B,\\ C$ — три произвольных события. Через них нужно выразить следующие события (подсказка: диаграмма Венна):\n",
        "1. Произошли все три события.\n",
        "2. Произошло только $C$.\n",
        "3. Произошло хотя бы одно из событий.\n",
        "4. Ни одно из событий не произошло.\n",
        "5. Произошло только одно из этих событий."
      ],
      "metadata": {
        "id": "a5DL-8QqWvUT"
      }
    },
    {
      "cell_type": "markdown",
      "source": [
        "## Задача 2"
      ],
      "metadata": {
        "id": "keB3BAtz36Rh"
      }
    },
    {
      "cell_type": "markdown",
      "source": [
        "В урне два белых и семь чёрных шаров. Из неё последовательно вынимают два шара. Какова вероятность того, что второй шар окажется белым **при условии,** что первый шар был чёрным?"
      ],
      "metadata": {
        "id": "OVTVKLPv3-QR"
      }
    },
    {
      "cell_type": "markdown",
      "source": [
        "## Задача 3"
      ],
      "metadata": {
        "id": "ciFnwmQk4tIa"
      }
    },
    {
      "cell_type": "markdown",
      "source": [
        "Найдите вероятность отказа схемы, предполагая, что отказы отдельных элементов независимы, а вероятность отказа элемента с номером равна $0.2$."
      ],
      "metadata": {
        "id": "sAQIojiP4vDm"
      }
    },
    {
      "cell_type": "markdown",
      "source": [
        "![image.png](data:image/png;base64,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)"
      ],
      "metadata": {
        "id": "7bSb4Eov8zfA"
      }
    },
    {
      "cell_type": "markdown",
      "source": [
        "## Задача 4"
      ],
      "metadata": {
        "id": "X3HFy4pH89vR"
      }
    },
    {
      "cell_type": "markdown",
      "source": [
        "Бросаются две игральные кости. Какова вероятность появления хотя бы одной шестёрки?\n",
        "\n",
        "*Подсказка*: посмотрите, что такое совместное событие."
      ],
      "metadata": {
        "id": "ulUsvGSp9ACC"
      }
    },
    {
      "cell_type": "markdown",
      "source": [
        "## Задача 5"
      ],
      "metadata": {
        "id": "gr7mj6l-9YHk"
      }
    },
    {
      "cell_type": "markdown",
      "source": [
        "В сборочный цех завода поступает $40\\%$ деталей из первого цеха и $60\\%$ из второго. В первом цехе производится $90\\%$ стандартных деталей, а во втором — $95\\%$.\n",
        "\n",
        "1. Найдите вероятность того, что взятая сборщиком деталь окажется стандартной.\n",
        "*Подсказка*: теорема о полной вероятности.\n",
        "\n",
        "2. Найдите вероятность того, что взятая стандартная деталь изготовлена вторым цехом.\n",
        "*Подсказка*: теорема Байеса."
      ],
      "metadata": {
        "id": "Q2DfxOAU9kMs"
      }
    }
  ]
}