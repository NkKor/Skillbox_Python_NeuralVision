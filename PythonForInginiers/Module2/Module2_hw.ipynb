{
 "cells": [
  {
   "cell_type": "code",
   "execution_count": 17,
   "metadata": {},
   "outputs": [
    {
     "name": "stdout",
     "output_type": "stream",
     "text": [
      "[0, 1, 1, 2, 3, 5]\n"
     ]
    }
   ],
   "source": [
    "# Задача 2 \n",
    "# Последовательность Фибоначчи с ограничением в 100 элементов\n",
    "\n",
    "def get_fib_numbers(qty=None): \n",
    "    fib_numbers = [0, 1]\n",
    "    if qty is None: # Принудительно ограничиваем число элементов если оно не введено пользователем\n",
    "        qty = 100\n",
    "    while len(fib_numbers) < qty:\n",
    "        fib_numbers.append(fib_numbers[-1] + fib_numbers[-2])\n",
    "    return fib_numbers[:qty]\n",
    "try:\n",
    "    max_num = int(input(\"Max number:\"))\n",
    "except Exception:\n",
    "    max_num = None\n",
    "fib_numbers = list(get_fib_numbers(max_num)) \n",
    "print(fib_numbers)\n"
   ]
  },
  {
   "cell_type": "code",
   "execution_count": 2,
   "metadata": {},
   "outputs": [
    {
     "name": "stdout",
     "output_type": "stream",
     "text": [
      "Разница для sin(x): 2.5e-08\n",
      "Разница для cos(x): 2.7e-07\n",
      "Разница для exp(x): 9.9e-03\n"
     ]
    }
   ],
   "source": [
    "# Задача 3 \n",
    "# разложения sin, cos и exp в ряды Тейлора.\n",
    "import math\n",
    "\n",
    "def taylor_sin(x, n): # Генератор для разложения sin(x) в ряд Тейлора\n",
    "    for i in range(n):\n",
    "        yield ((-1) ** i) * (x ** (2 * i + 1)) / math.factorial(2 * i + 1)\n",
    "\n",
    "def taylor_cos(x, n): # Генератор для разложения cos(x) в ряд Тейлора\n",
    "    for i in range(n):\n",
    "        yield ((-1) ** i) * (x ** (2 * i)) / math.factorial(2 * i)\n",
    "\n",
    "def taylor_exp(x, n): # Генератор для разложения exp(x) в ряд Тейлора\n",
    "    for i in range(n):\n",
    "        yield (x ** i) / math.factorial(i)\n",
    "\n",
    "def sum_series(generator):  # Вычисление суммы членов ряда Тейлора\n",
    "    return sum(generator)\n",
    "\n",
    "x = float(input(\"Введите значение угла в радианах: \"))\n",
    "n = int(input(\"Введите количество элементов ряда: \"))\n",
    "\n",
    "    # Вычисляем сумму членов ряда для каждой функции\n",
    "sin_sum = sum_series(taylor_sin(x, n))\n",
    "cos_sum = sum_series(taylor_cos(x, n))\n",
    "exp_sum = sum_series(taylor_exp(x, n))\n",
    "\n",
    "    # Вычисляем значения функций из модуля math\n",
    "sin_math = math.sin(x)\n",
    "cos_math = math.cos(x)\n",
    "exp_math = math.exp(x)\n",
    "\n",
    "    # Выводим разницу между суммой членов ряда и значением из модуля math\n",
    "print(\"Разница для sin(x): {:.1e}\".format(abs(sin_sum - sin_math)))\n",
    "print(\"Разница для cos(x): {:.1e}\".format(abs(cos_sum - cos_math)))\n",
    "print(\"Разница для exp(x): {:.1e}\".format(abs(exp_sum - exp_math)))\n"
   ]
  },
  {
   "cell_type": "code",
   "execution_count": 5,
   "metadata": {},
   "outputs": [
    {
     "name": "stdout",
     "output_type": "stream",
     "text": [
      "Полярный радиус: 34.482\n",
      "Полярный угол: -1.277 рад.\n"
     ]
    }
   ],
   "source": [
    "# Задача 4 \n",
    "#  преобразование координат точки на плоскости из декартовой системы координат в полярную\n",
    "import math\n",
    "\n",
    "def cartesian_to_polar(x, y):\n",
    "    r = math.sqrt(x**2 + y**2)\n",
    "    phi = math.atan2(y, x)\n",
    "    return r, phi\n",
    "\n",
    "x = 10\n",
    "y = -33\n",
    "r, phi = cartesian_to_polar(x, y)\n",
    "print(f\"Полярный радиус: {r:.3f}\")\n",
    "print(f\"Полярный угол: {phi:.3f} рад.\")"
   ]
  },
  {
   "cell_type": "code",
   "execution_count": 2,
   "metadata": {},
   "outputs": [
    {
     "name": "stdout",
     "output_type": "stream",
     "text": [
      "H2-O     18.015\n",
      "H-Cl     36.461\n",
      "Na-Cl    58.443\n",
      "K-Cl     74.551\n",
      "H2-S-O4  98.078\n"
     ]
    }
   ],
   "source": [
    "# Задача 5 \n",
    "# список молекул и их атомная масса. \n",
    "from functools import reduce\n",
    "import re\n",
    "\n",
    "# Атомные массы элементов\n",
    "atomic_masses = {\n",
    "    'H': 1.008,\n",
    "    'O': 15.999,\n",
    "    'S': 32.066,\n",
    "    'Na': 22.990,\n",
    "    'Cl': 35.453,\n",
    "    'K': 39.098\n",
    "}\n",
    "\n",
    "# Входные данные\n",
    "molecules = ['H2-S-O4', 'H2-O', 'NA-CL', 'H-CL', 'K-CL']\n",
    "\n",
    "def normalize_molecule(molecule: str):\n",
    "    \"\"\"\n",
    "    Приводит обозначения атомов в молекуле к правильному регистру.\n",
    "    Например: 'NA-CL' -> 'Na-Cl'\n",
    "    \"\"\"\n",
    "    molecule = molecule.upper()\n",
    "    components = re.findall(r'[A-Z][A-Z]?', molecule)\n",
    "    for component in components:\n",
    "        if component.capitalize() in atomic_masses:\n",
    "            molecule = molecule.replace(component, component.capitalize())\n",
    "    return molecule\n",
    "\n",
    "def parse_molecule(molecule: str):\n",
    "    \"\"\"Разбивает молекулу на атомы и их количество.\"\"\"\n",
    "    components = re.findall(r'([A-Z][a-z]*)(\\d*)', molecule)\n",
    "    return [(atom, int(count) if count else 1) for atom, count in components]\n",
    "\n",
    "def calculate_mass(molecule: str):\n",
    "    \"\"\"Вычисляет молекулярную массу молекулы.\"\"\"\n",
    "    atoms = parse_molecule(molecule)\n",
    "    return reduce(lambda total, atom: total + atomic_masses.get(atom[0], 0) * atom[1], atoms, 0)\n",
    "\n",
    "# Приведение молекул к корректному формату\n",
    "normalized_molecules = map(normalize_molecule, molecules)\n",
    "\n",
    "# Расчет молярных масс для всех молекул\n",
    "results = map(lambda mol: (mol, calculate_mass(mol)), normalized_molecules)\n",
    "\n",
    "# Сортировка по молекулярной массе\n",
    "sorted_results = sorted(results, key=lambda x: x[1])\n",
    "\n",
    "# Вывод результата\n",
    "for molecule, mass in sorted_results:\n",
    "    print(f\"{molecule:<8} {mass:.3f}\")\n"
   ]
  },
  {
   "cell_type": "code",
   "execution_count": 1,
   "metadata": {},
   "outputs": [
    {
     "name": "stdout",
     "output_type": "stream",
     "text": [
      "Collecting loguru"
     ]
    },
    {
     "name": "stderr",
     "output_type": "stream",
     "text": [
      "\n",
      "[notice] A new release of pip is available: 24.2 -> 24.3.1\n",
      "[notice] To update, run: python.exe -m pip install --upgrade pip\n"
     ]
    },
    {
     "name": "stdout",
     "output_type": "stream",
     "text": [
      "\n",
      "  Using cached loguru-0.7.2-py3-none-any.whl.metadata (23 kB)\n",
      "Requirement already satisfied: colorama>=0.3.4 in c:\\users\\z0rg3\\onedrive\\документы\\vscode\\skillbox_python_neuralvision\\pythonforinginiers\\module2\\.venv\\lib\\site-packages (from loguru) (0.4.6)\n",
      "Collecting win32-setctime>=1.0.0 (from loguru)\n",
      "  Using cached win32_setctime-1.1.0-py3-none-any.whl.metadata (2.3 kB)\n",
      "Using cached loguru-0.7.2-py3-none-any.whl (62 kB)\n",
      "Using cached win32_setctime-1.1.0-py3-none-any.whl (3.6 kB)\n",
      "Installing collected packages: win32-setctime, loguru\n",
      "Successfully installed loguru-0.7.2 win32-setctime-1.1.0\n"
     ]
    }
   ],
   "source": [
    "!pip install loguru"
   ]
  },
  {
   "cell_type": "code",
   "execution_count": 3,
   "metadata": {},
   "outputs": [
    {
     "name": "stderr",
     "output_type": "stream",
     "text": [
      "\u001b[32m2024-11-26 11:44:50.544\u001b[0m | \u001b[31m\u001b[1mERROR   \u001b[0m | \u001b[36m__main__\u001b[0m:\u001b[36mprocess_file\u001b[0m:\u001b[36m65\u001b[0m - \u001b[31m\u001b[1mLine #2: Пустая строка\u001b[0m\n",
      "\u001b[32m2024-11-26 11:44:50.549\u001b[0m | \u001b[31m\u001b[1mERROR   \u001b[0m | \u001b[36m__main__\u001b[0m:\u001b[36mprocess_file\u001b[0m:\u001b[36m65\u001b[0m - \u001b[31m\u001b[1mLine #4: Пустая строка\u001b[0m\n",
      "\u001b[32m2024-11-26 11:44:50.549\u001b[0m | \u001b[31m\u001b[1mERROR   \u001b[0m | \u001b[36m__main__\u001b[0m:\u001b[36mprocess_file\u001b[0m:\u001b[36m65\u001b[0m - \u001b[31m\u001b[1mLine #5: Некорректное выражение: '-5,2*4'\u001b[0m\n",
      "\u001b[32m2024-11-26 11:44:50.551\u001b[0m | \u001b[31m\u001b[1mERROR   \u001b[0m | \u001b[36m__main__\u001b[0m:\u001b[36mprocess_file\u001b[0m:\u001b[36m65\u001b[0m - \u001b[31m\u001b[1mLine #6: Пустая строка\u001b[0m\n",
      "\u001b[32m2024-11-26 11:44:50.553\u001b[0m | \u001b[31m\u001b[1mERROR   \u001b[0m | \u001b[36m__main__\u001b[0m:\u001b[36mprocess_file\u001b[0m:\u001b[36m65\u001b[0m - \u001b[31m\u001b[1mLine #8: Пустая строка\u001b[0m\n",
      "\u001b[32m2024-11-26 11:44:50.553\u001b[0m | \u001b[31m\u001b[1mERROR   \u001b[0m | \u001b[36m__main__\u001b[0m:\u001b[36mprocess_file\u001b[0m:\u001b[36m65\u001b[0m - \u001b[31m\u001b[1mLine #9: Некорректное выражение: 'a+5'\u001b[0m\n"
     ]
    },
    {
     "name": "stdout",
     "output_type": "stream",
     "text": [
      "Результаты сохранены в results.txt, ошибки записаны в logs.log\n"
     ]
    }
   ],
   "source": [
    "# Задача 6 \n",
    "# Калькулятор\n",
    "from loguru import logger\n",
    "import re\n",
    "from datetime import datetime\n",
    "\n",
    "# Настройка логирования\n",
    "logger.add(\"logs.log\", format=\"{time} | {level} | {message}\", level=\"ERROR\")\n",
    "\n",
    "# Операции\n",
    "def add(a, b):\n",
    "    return a + b\n",
    "\n",
    "def subtract(a, b):\n",
    "    return a - b\n",
    "\n",
    "def multiply(a, b):\n",
    "    return a * b\n",
    "\n",
    "def divide(a, b):\n",
    "    if b == 0:\n",
    "        raise ZeroDivisionError(\"Деление на ноль\")\n",
    "    return a / b\n",
    "\n",
    "# Обработка строки выражения\n",
    "def calculate_expression(expression):\n",
    "    operators = {\n",
    "        '+': add,\n",
    "        '-': subtract,\n",
    "        '*': multiply,\n",
    "        '/': divide\n",
    "    }\n",
    "\n",
    "    # Очистка пробелов\n",
    "    expression = re.sub(r'\\s+', '', expression)\n",
    "\n",
    "    # Парсинг выражения\n",
    "    match = re.fullmatch(r'(-?\\d*\\.?\\d+)([+\\-*/])(-?\\d*\\.?\\d+)', expression)\n",
    "    if not match:\n",
    "        raise ValueError(f\"Некорректное выражение: '{expression}'\")\n",
    "\n",
    "    operand1, operator, operand2 = match.groups()\n",
    "    operand1, operand2 = float(operand1), float(operand2)\n",
    "\n",
    "    # Выполнение операции\n",
    "    if operator in operators:\n",
    "        return operators[operator](operand1, operand2)\n",
    "    else:\n",
    "        raise ValueError(f\"Неизвестный оператор: '{operator}'\")\n",
    "\n",
    "def process_file(input_file, output_file):\n",
    "    results = []\n",
    "    error_lines = []\n",
    "\n",
    "    with open(input_file, 'r', encoding='utf-8') as infile:\n",
    "        lines = infile.readlines()\n",
    "\n",
    "    for i, line in enumerate(lines, 1):\n",
    "        try:\n",
    "            if not line.strip():\n",
    "                raise ValueError(\"Пустая строка\")\n",
    "            result = calculate_expression(line.strip())\n",
    "            results.append(f\"{i} {result:.3f}\")\n",
    "        except Exception as e:\n",
    "            logger.error(f\"Line #{i}: {e}\")\n",
    "            error_lines.append((i, str(e)))\n",
    "\n",
    "    # Запись результатов\n",
    "    with open(output_file, 'w', encoding='utf-8') as outfile:\n",
    "        outfile.write('\\n'.join(results) + '\\n')\n",
    "\n",
    "# Основная программа\n",
    "if __name__ == \"__main__\":\n",
    "    input_file = \"exprs.txt\"\n",
    "    output_file = \"results.txt\"\n",
    "    \n",
    "    # Обработка файла\n",
    "    process_file(input_file, output_file)\n",
    "    print(f\"Результаты сохранены в {output_file}, ошибки записаны в logs.log\")"
   ]
  },
  {
   "cell_type": "code",
   "execution_count": 11,
   "metadata": {},
   "outputs": [
    {
     "name": "stdout",
     "output_type": "stream",
     "text": [
      "Шифрованное сообщение: Клдэанмнэощ наьъ, ялою зйе\n",
      "Расшифрованное сообщение: Приветствую тебя, друг мой\n"
     ]
    }
   ],
   "source": [
    "# Задача 7 \n",
    "# Реализация шифра Цезаря для кирилических сообщений\n",
    "\n",
    "def caesar_cipher(shift, message):\n",
    "    alphabet = 'абвгдеёжзийклмнопрстуфхцчшщъыьэюя' \n",
    "    shifted_alphabet = alphabet[shift:] + alphabet[:shift]\n",
    "    table = str.maketrans(alphabet + alphabet.upper(), shifted_alphabet + shifted_alphabet.upper())\n",
    "    encrypted_message = message.translate(table)\n",
    "    decrypted_message = encrypted_message.translate(str.maketrans(shifted_alphabet + shifted_alphabet.upper(), alphabet + alphabet.upper()))\n",
    "    return encrypted_message, decrypted_message\n",
    "\n",
    "\n",
    "shift = int(input(\"Введите смещение: \"))\n",
    "message = input(\"Введите сообщение: \")\n",
    "encrypted_message, decrypted_message = caesar_cipher(shift, message)\n",
    "print(\"Шифрованное сообщение:\", encrypted_message)\n",
    "print(\"Расшифрованное сообщение:\", decrypted_message)"
   ]
  },
  {
   "cell_type": "code",
   "execution_count": null,
   "metadata": {},
   "outputs": [],
   "source": [
    "# Задача 8 \n",
    "# Система контроля спорткомплекса\n",
    "\n",
    "import logging\n",
    "import sys\n",
    "import pandas as pd\n",
    "import os\n",
    "logger = logging.getLogger(\"pool_loger\")\n",
    "logger.setLevel(logging.DEBUG)\n",
    "ch = logging.FileHandler(\"pool_logs.log\", encoding='utf-8')\n",
    "logger.addHandler(ch)\n",
    "if not os.path.exists(\"activity.csv\"):\n",
    "    logger.debug(\"Файл activity.csv не обнаружен\")\n",
    "else:\n",
    "    activity_df = pd.read_csv('activity.csv', index_col='Athlete', sep=\"\\t\")\n",
    "    print(activity_df)\n",
    "\n",
    "def calculate_pool_time(activity_df,athlete):\n",
    "    pass"
   ]
  }
 ],
 "metadata": {
  "kernelspec": {
   "display_name": ".venv",
   "language": "python",
   "name": "python3"
  },
  "language_info": {
   "codemirror_mode": {
    "name": "ipython",
    "version": 3
   },
   "file_extension": ".py",
   "mimetype": "text/x-python",
   "name": "python",
   "nbconvert_exporter": "python",
   "pygments_lexer": "ipython3",
   "version": "3.10.11"
  }
 },
 "nbformat": 4,
 "nbformat_minor": 2
}
